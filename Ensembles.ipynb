{
  "cells": [
    {
      "cell_type": "markdown",
      "metadata": {
        "id": "view-in-github",
        "colab_type": "text"
      },
      "source": [
        "<a href=\"https://colab.research.google.com/github/kapumota/Cuadernos/blob/main/Ensembles.ipynb\" target=\"_parent\"><img src=\"https://colab.research.google.com/assets/colab-badge.svg\" alt=\"Open In Colab\"/></a>"
      ]
    },
    {
      "cell_type": "markdown",
      "id": "3ebf2d20",
      "metadata": {
        "id": "3ebf2d20"
      },
      "source": [
        "### Curso de Inteligencia Artificial\n"
      ]
    },
    {
      "cell_type": "code",
      "execution_count": null,
      "id": "f06c77e6",
      "metadata": {
        "id": "f06c77e6"
      },
      "outputs": [],
      "source": [
        "import pandas as pd\n",
        "import numpy as np\n",
        "\n",
        "import seaborn as sns\n",
        "from matplotlib import pyplot as plt\n",
        "%matplotlib inline"
      ]
    },
    {
      "cell_type": "markdown",
      "id": "f47c2f25",
      "metadata": {
        "id": "f47c2f25"
      },
      "source": [
        "#### Preparación de datos\n",
        "\n",
        "El conjunto de datos describe a los clientes (`seniority`, `age`, `marital status`, `income` y otras características), el préstamo (la cantidad solicitada, el precio del artículo) y su estado (pagado o no). \n"
      ]
    },
    {
      "cell_type": "code",
      "source": [
        "!gdown 1hMan7eH4tzeoJb9dXl6JFwkw4oNK2xsR"
      ],
      "metadata": {
        "colab": {
          "base_uri": "https://localhost:8080/"
        },
        "id": "9DIOHDVJ43R-",
        "outputId": "f66f5d19-6173-44ce-9395-fd8a9e074817"
      },
      "id": "9DIOHDVJ43R-",
      "execution_count": null,
      "outputs": [
        {
          "output_type": "stream",
          "name": "stdout",
          "text": [
            "Downloading...\n",
            "From: https://drive.google.com/uc?id=1hMan7eH4tzeoJb9dXl6JFwkw4oNK2xsR\n",
            "To: /content/CreditScoring.csv\n",
            "\r  0% 0.00/182k [00:00<?, ?B/s]\r100% 182k/182k [00:00<00:00, 77.7MB/s]\n"
          ]
        }
      ]
    },
    {
      "cell_type": "code",
      "execution_count": null,
      "id": "a366b8b6",
      "metadata": {
        "id": "a366b8b6"
      },
      "outputs": [],
      "source": [
        "df = pd.read_csv('CreditScoring.csv')"
      ]
    },
    {
      "cell_type": "code",
      "execution_count": null,
      "id": "a2a06a9b",
      "metadata": {
        "colab": {
          "base_uri": "https://localhost:8080/",
          "height": 270
        },
        "id": "a2a06a9b",
        "outputId": "ef6ea274-db9e-4a69-ea8d-aae99988b35d"
      },
      "outputs": [
        {
          "output_type": "execute_result",
          "data": {
            "text/plain": [
              "   Status  Seniority  Home  Time  Age  Marital  Records  Job  Expenses  \\\n",
              "0       1          9     1    60   30        2        1    3        73   \n",
              "1       1         17     1    60   58        3        1    1        48   \n",
              "2       2         10     2    36   46        2        2    3        90   \n",
              "3       1          0     1    60   24        1        1    1        63   \n",
              "4       1          0     1    36   26        1        1    1        46   \n",
              "\n",
              "   Income  Assets  Debt  Amount  Price  \n",
              "0     129       0     0     800    846  \n",
              "1     131       0     0    1000   1658  \n",
              "2     200    3000     0    2000   2985  \n",
              "3     182    2500     0     900   1325  \n",
              "4     107       0     0     310    910  "
            ],
            "text/html": [
              "\n",
              "  <div id=\"df-9f9a9a9a-81cf-449a-8810-9be261abe8a2\">\n",
              "    <div class=\"colab-df-container\">\n",
              "      <div>\n",
              "<style scoped>\n",
              "    .dataframe tbody tr th:only-of-type {\n",
              "        vertical-align: middle;\n",
              "    }\n",
              "\n",
              "    .dataframe tbody tr th {\n",
              "        vertical-align: top;\n",
              "    }\n",
              "\n",
              "    .dataframe thead th {\n",
              "        text-align: right;\n",
              "    }\n",
              "</style>\n",
              "<table border=\"1\" class=\"dataframe\">\n",
              "  <thead>\n",
              "    <tr style=\"text-align: right;\">\n",
              "      <th></th>\n",
              "      <th>Status</th>\n",
              "      <th>Seniority</th>\n",
              "      <th>Home</th>\n",
              "      <th>Time</th>\n",
              "      <th>Age</th>\n",
              "      <th>Marital</th>\n",
              "      <th>Records</th>\n",
              "      <th>Job</th>\n",
              "      <th>Expenses</th>\n",
              "      <th>Income</th>\n",
              "      <th>Assets</th>\n",
              "      <th>Debt</th>\n",
              "      <th>Amount</th>\n",
              "      <th>Price</th>\n",
              "    </tr>\n",
              "  </thead>\n",
              "  <tbody>\n",
              "    <tr>\n",
              "      <th>0</th>\n",
              "      <td>1</td>\n",
              "      <td>9</td>\n",
              "      <td>1</td>\n",
              "      <td>60</td>\n",
              "      <td>30</td>\n",
              "      <td>2</td>\n",
              "      <td>1</td>\n",
              "      <td>3</td>\n",
              "      <td>73</td>\n",
              "      <td>129</td>\n",
              "      <td>0</td>\n",
              "      <td>0</td>\n",
              "      <td>800</td>\n",
              "      <td>846</td>\n",
              "    </tr>\n",
              "    <tr>\n",
              "      <th>1</th>\n",
              "      <td>1</td>\n",
              "      <td>17</td>\n",
              "      <td>1</td>\n",
              "      <td>60</td>\n",
              "      <td>58</td>\n",
              "      <td>3</td>\n",
              "      <td>1</td>\n",
              "      <td>1</td>\n",
              "      <td>48</td>\n",
              "      <td>131</td>\n",
              "      <td>0</td>\n",
              "      <td>0</td>\n",
              "      <td>1000</td>\n",
              "      <td>1658</td>\n",
              "    </tr>\n",
              "    <tr>\n",
              "      <th>2</th>\n",
              "      <td>2</td>\n",
              "      <td>10</td>\n",
              "      <td>2</td>\n",
              "      <td>36</td>\n",
              "      <td>46</td>\n",
              "      <td>2</td>\n",
              "      <td>2</td>\n",
              "      <td>3</td>\n",
              "      <td>90</td>\n",
              "      <td>200</td>\n",
              "      <td>3000</td>\n",
              "      <td>0</td>\n",
              "      <td>2000</td>\n",
              "      <td>2985</td>\n",
              "    </tr>\n",
              "    <tr>\n",
              "      <th>3</th>\n",
              "      <td>1</td>\n",
              "      <td>0</td>\n",
              "      <td>1</td>\n",
              "      <td>60</td>\n",
              "      <td>24</td>\n",
              "      <td>1</td>\n",
              "      <td>1</td>\n",
              "      <td>1</td>\n",
              "      <td>63</td>\n",
              "      <td>182</td>\n",
              "      <td>2500</td>\n",
              "      <td>0</td>\n",
              "      <td>900</td>\n",
              "      <td>1325</td>\n",
              "    </tr>\n",
              "    <tr>\n",
              "      <th>4</th>\n",
              "      <td>1</td>\n",
              "      <td>0</td>\n",
              "      <td>1</td>\n",
              "      <td>36</td>\n",
              "      <td>26</td>\n",
              "      <td>1</td>\n",
              "      <td>1</td>\n",
              "      <td>1</td>\n",
              "      <td>46</td>\n",
              "      <td>107</td>\n",
              "      <td>0</td>\n",
              "      <td>0</td>\n",
              "      <td>310</td>\n",
              "      <td>910</td>\n",
              "    </tr>\n",
              "  </tbody>\n",
              "</table>\n",
              "</div>\n",
              "      <button class=\"colab-df-convert\" onclick=\"convertToInteractive('df-9f9a9a9a-81cf-449a-8810-9be261abe8a2')\"\n",
              "              title=\"Convert this dataframe to an interactive table.\"\n",
              "              style=\"display:none;\">\n",
              "        \n",
              "  <svg xmlns=\"http://www.w3.org/2000/svg\" height=\"24px\"viewBox=\"0 0 24 24\"\n",
              "       width=\"24px\">\n",
              "    <path d=\"M0 0h24v24H0V0z\" fill=\"none\"/>\n",
              "    <path d=\"M18.56 5.44l.94 2.06.94-2.06 2.06-.94-2.06-.94-.94-2.06-.94 2.06-2.06.94zm-11 1L8.5 8.5l.94-2.06 2.06-.94-2.06-.94L8.5 2.5l-.94 2.06-2.06.94zm10 10l.94 2.06.94-2.06 2.06-.94-2.06-.94-.94-2.06-.94 2.06-2.06.94z\"/><path d=\"M17.41 7.96l-1.37-1.37c-.4-.4-.92-.59-1.43-.59-.52 0-1.04.2-1.43.59L10.3 9.45l-7.72 7.72c-.78.78-.78 2.05 0 2.83L4 21.41c.39.39.9.59 1.41.59.51 0 1.02-.2 1.41-.59l7.78-7.78 2.81-2.81c.8-.78.8-2.07 0-2.86zM5.41 20L4 18.59l7.72-7.72 1.47 1.35L5.41 20z\"/>\n",
              "  </svg>\n",
              "      </button>\n",
              "      \n",
              "  <style>\n",
              "    .colab-df-container {\n",
              "      display:flex;\n",
              "      flex-wrap:wrap;\n",
              "      gap: 12px;\n",
              "    }\n",
              "\n",
              "    .colab-df-convert {\n",
              "      background-color: #E8F0FE;\n",
              "      border: none;\n",
              "      border-radius: 50%;\n",
              "      cursor: pointer;\n",
              "      display: none;\n",
              "      fill: #1967D2;\n",
              "      height: 32px;\n",
              "      padding: 0 0 0 0;\n",
              "      width: 32px;\n",
              "    }\n",
              "\n",
              "    .colab-df-convert:hover {\n",
              "      background-color: #E2EBFA;\n",
              "      box-shadow: 0px 1px 2px rgba(60, 64, 67, 0.3), 0px 1px 3px 1px rgba(60, 64, 67, 0.15);\n",
              "      fill: #174EA6;\n",
              "    }\n",
              "\n",
              "    [theme=dark] .colab-df-convert {\n",
              "      background-color: #3B4455;\n",
              "      fill: #D2E3FC;\n",
              "    }\n",
              "\n",
              "    [theme=dark] .colab-df-convert:hover {\n",
              "      background-color: #434B5C;\n",
              "      box-shadow: 0px 1px 3px 1px rgba(0, 0, 0, 0.15);\n",
              "      filter: drop-shadow(0px 1px 2px rgba(0, 0, 0, 0.3));\n",
              "      fill: #FFFFFF;\n",
              "    }\n",
              "  </style>\n",
              "\n",
              "      <script>\n",
              "        const buttonEl =\n",
              "          document.querySelector('#df-9f9a9a9a-81cf-449a-8810-9be261abe8a2 button.colab-df-convert');\n",
              "        buttonEl.style.display =\n",
              "          google.colab.kernel.accessAllowed ? 'block' : 'none';\n",
              "\n",
              "        async function convertToInteractive(key) {\n",
              "          const element = document.querySelector('#df-9f9a9a9a-81cf-449a-8810-9be261abe8a2');\n",
              "          const dataTable =\n",
              "            await google.colab.kernel.invokeFunction('convertToInteractive',\n",
              "                                                     [key], {});\n",
              "          if (!dataTable) return;\n",
              "\n",
              "          const docLinkHtml = 'Like what you see? Visit the ' +\n",
              "            '<a target=\"_blank\" href=https://colab.research.google.com/notebooks/data_table.ipynb>data table notebook</a>'\n",
              "            + ' to learn more about interactive tables.';\n",
              "          element.innerHTML = '';\n",
              "          dataTable['output_type'] = 'display_data';\n",
              "          await google.colab.output.renderOutput(dataTable, element);\n",
              "          const docLink = document.createElement('div');\n",
              "          docLink.innerHTML = docLinkHtml;\n",
              "          element.appendChild(docLink);\n",
              "        }\n",
              "      </script>\n",
              "    </div>\n",
              "  </div>\n",
              "  "
            ]
          },
          "metadata": {},
          "execution_count": 4
        }
      ],
      "source": [
        "df.head()"
      ]
    },
    {
      "cell_type": "code",
      "execution_count": null,
      "id": "cd9ad099",
      "metadata": {
        "colab": {
          "base_uri": "https://localhost:8080/"
        },
        "id": "cd9ad099",
        "outputId": "87a7e9aa-3fdb-4096-aa3b-cf3731d1d7fc"
      },
      "outputs": [
        {
          "output_type": "execute_result",
          "data": {
            "text/plain": [
              "(4455, 14)"
            ]
          },
          "metadata": {},
          "execution_count": 6
        }
      ],
      "source": [
        "df.columns = df.columns.str.lower()\n",
        "df.head()\n",
        "df.shape"
      ]
    },
    {
      "cell_type": "markdown",
      "id": "b3de45e4",
      "metadata": {
        "id": "b3de45e4"
      },
      "source": [
        "Aunque la mayoría de las columnas son numéricas, algunas son categóricas: `status`, `home`, `marital[status]`, `records` y `job`. Sin embargo, los valores que vemos en el DataFrame son números, no cadenas. Esto significa que necesitamos traducirlos a sus nombres reales. \n",
        "\n",
        "**Para status**"
      ]
    },
    {
      "cell_type": "code",
      "execution_count": null,
      "id": "12ee2060",
      "metadata": {
        "colab": {
          "base_uri": "https://localhost:8080/",
          "height": 270
        },
        "id": "12ee2060",
        "outputId": "32530bc7-5754-4252-87dc-fa161bf735b2"
      },
      "outputs": [
        {
          "output_type": "execute_result",
          "data": {
            "text/plain": [
              "    status  seniority  home  time  age  marital  records  job  expenses  \\\n",
              "0       ok          9     1    60   30        2        1    3        73   \n",
              "1       ok         17     1    60   58        3        1    1        48   \n",
              "2  default         10     2    36   46        2        2    3        90   \n",
              "3       ok          0     1    60   24        1        1    1        63   \n",
              "4       ok          0     1    36   26        1        1    1        46   \n",
              "\n",
              "   income  assets  debt  amount  price  \n",
              "0     129       0     0     800    846  \n",
              "1     131       0     0    1000   1658  \n",
              "2     200    3000     0    2000   2985  \n",
              "3     182    2500     0     900   1325  \n",
              "4     107       0     0     310    910  "
            ],
            "text/html": [
              "\n",
              "  <div id=\"df-b5487299-db71-4d36-99e0-00ffddd7797a\">\n",
              "    <div class=\"colab-df-container\">\n",
              "      <div>\n",
              "<style scoped>\n",
              "    .dataframe tbody tr th:only-of-type {\n",
              "        vertical-align: middle;\n",
              "    }\n",
              "\n",
              "    .dataframe tbody tr th {\n",
              "        vertical-align: top;\n",
              "    }\n",
              "\n",
              "    .dataframe thead th {\n",
              "        text-align: right;\n",
              "    }\n",
              "</style>\n",
              "<table border=\"1\" class=\"dataframe\">\n",
              "  <thead>\n",
              "    <tr style=\"text-align: right;\">\n",
              "      <th></th>\n",
              "      <th>status</th>\n",
              "      <th>seniority</th>\n",
              "      <th>home</th>\n",
              "      <th>time</th>\n",
              "      <th>age</th>\n",
              "      <th>marital</th>\n",
              "      <th>records</th>\n",
              "      <th>job</th>\n",
              "      <th>expenses</th>\n",
              "      <th>income</th>\n",
              "      <th>assets</th>\n",
              "      <th>debt</th>\n",
              "      <th>amount</th>\n",
              "      <th>price</th>\n",
              "    </tr>\n",
              "  </thead>\n",
              "  <tbody>\n",
              "    <tr>\n",
              "      <th>0</th>\n",
              "      <td>ok</td>\n",
              "      <td>9</td>\n",
              "      <td>1</td>\n",
              "      <td>60</td>\n",
              "      <td>30</td>\n",
              "      <td>2</td>\n",
              "      <td>1</td>\n",
              "      <td>3</td>\n",
              "      <td>73</td>\n",
              "      <td>129</td>\n",
              "      <td>0</td>\n",
              "      <td>0</td>\n",
              "      <td>800</td>\n",
              "      <td>846</td>\n",
              "    </tr>\n",
              "    <tr>\n",
              "      <th>1</th>\n",
              "      <td>ok</td>\n",
              "      <td>17</td>\n",
              "      <td>1</td>\n",
              "      <td>60</td>\n",
              "      <td>58</td>\n",
              "      <td>3</td>\n",
              "      <td>1</td>\n",
              "      <td>1</td>\n",
              "      <td>48</td>\n",
              "      <td>131</td>\n",
              "      <td>0</td>\n",
              "      <td>0</td>\n",
              "      <td>1000</td>\n",
              "      <td>1658</td>\n",
              "    </tr>\n",
              "    <tr>\n",
              "      <th>2</th>\n",
              "      <td>default</td>\n",
              "      <td>10</td>\n",
              "      <td>2</td>\n",
              "      <td>36</td>\n",
              "      <td>46</td>\n",
              "      <td>2</td>\n",
              "      <td>2</td>\n",
              "      <td>3</td>\n",
              "      <td>90</td>\n",
              "      <td>200</td>\n",
              "      <td>3000</td>\n",
              "      <td>0</td>\n",
              "      <td>2000</td>\n",
              "      <td>2985</td>\n",
              "    </tr>\n",
              "    <tr>\n",
              "      <th>3</th>\n",
              "      <td>ok</td>\n",
              "      <td>0</td>\n",
              "      <td>1</td>\n",
              "      <td>60</td>\n",
              "      <td>24</td>\n",
              "      <td>1</td>\n",
              "      <td>1</td>\n",
              "      <td>1</td>\n",
              "      <td>63</td>\n",
              "      <td>182</td>\n",
              "      <td>2500</td>\n",
              "      <td>0</td>\n",
              "      <td>900</td>\n",
              "      <td>1325</td>\n",
              "    </tr>\n",
              "    <tr>\n",
              "      <th>4</th>\n",
              "      <td>ok</td>\n",
              "      <td>0</td>\n",
              "      <td>1</td>\n",
              "      <td>36</td>\n",
              "      <td>26</td>\n",
              "      <td>1</td>\n",
              "      <td>1</td>\n",
              "      <td>1</td>\n",
              "      <td>46</td>\n",
              "      <td>107</td>\n",
              "      <td>0</td>\n",
              "      <td>0</td>\n",
              "      <td>310</td>\n",
              "      <td>910</td>\n",
              "    </tr>\n",
              "  </tbody>\n",
              "</table>\n",
              "</div>\n",
              "      <button class=\"colab-df-convert\" onclick=\"convertToInteractive('df-b5487299-db71-4d36-99e0-00ffddd7797a')\"\n",
              "              title=\"Convert this dataframe to an interactive table.\"\n",
              "              style=\"display:none;\">\n",
              "        \n",
              "  <svg xmlns=\"http://www.w3.org/2000/svg\" height=\"24px\"viewBox=\"0 0 24 24\"\n",
              "       width=\"24px\">\n",
              "    <path d=\"M0 0h24v24H0V0z\" fill=\"none\"/>\n",
              "    <path d=\"M18.56 5.44l.94 2.06.94-2.06 2.06-.94-2.06-.94-.94-2.06-.94 2.06-2.06.94zm-11 1L8.5 8.5l.94-2.06 2.06-.94-2.06-.94L8.5 2.5l-.94 2.06-2.06.94zm10 10l.94 2.06.94-2.06 2.06-.94-2.06-.94-.94-2.06-.94 2.06-2.06.94z\"/><path d=\"M17.41 7.96l-1.37-1.37c-.4-.4-.92-.59-1.43-.59-.52 0-1.04.2-1.43.59L10.3 9.45l-7.72 7.72c-.78.78-.78 2.05 0 2.83L4 21.41c.39.39.9.59 1.41.59.51 0 1.02-.2 1.41-.59l7.78-7.78 2.81-2.81c.8-.78.8-2.07 0-2.86zM5.41 20L4 18.59l7.72-7.72 1.47 1.35L5.41 20z\"/>\n",
              "  </svg>\n",
              "      </button>\n",
              "      \n",
              "  <style>\n",
              "    .colab-df-container {\n",
              "      display:flex;\n",
              "      flex-wrap:wrap;\n",
              "      gap: 12px;\n",
              "    }\n",
              "\n",
              "    .colab-df-convert {\n",
              "      background-color: #E8F0FE;\n",
              "      border: none;\n",
              "      border-radius: 50%;\n",
              "      cursor: pointer;\n",
              "      display: none;\n",
              "      fill: #1967D2;\n",
              "      height: 32px;\n",
              "      padding: 0 0 0 0;\n",
              "      width: 32px;\n",
              "    }\n",
              "\n",
              "    .colab-df-convert:hover {\n",
              "      background-color: #E2EBFA;\n",
              "      box-shadow: 0px 1px 2px rgba(60, 64, 67, 0.3), 0px 1px 3px 1px rgba(60, 64, 67, 0.15);\n",
              "      fill: #174EA6;\n",
              "    }\n",
              "\n",
              "    [theme=dark] .colab-df-convert {\n",
              "      background-color: #3B4455;\n",
              "      fill: #D2E3FC;\n",
              "    }\n",
              "\n",
              "    [theme=dark] .colab-df-convert:hover {\n",
              "      background-color: #434B5C;\n",
              "      box-shadow: 0px 1px 3px 1px rgba(0, 0, 0, 0.15);\n",
              "      filter: drop-shadow(0px 1px 2px rgba(0, 0, 0, 0.3));\n",
              "      fill: #FFFFFF;\n",
              "    }\n",
              "  </style>\n",
              "\n",
              "      <script>\n",
              "        const buttonEl =\n",
              "          document.querySelector('#df-b5487299-db71-4d36-99e0-00ffddd7797a button.colab-df-convert');\n",
              "        buttonEl.style.display =\n",
              "          google.colab.kernel.accessAllowed ? 'block' : 'none';\n",
              "\n",
              "        async function convertToInteractive(key) {\n",
              "          const element = document.querySelector('#df-b5487299-db71-4d36-99e0-00ffddd7797a');\n",
              "          const dataTable =\n",
              "            await google.colab.kernel.invokeFunction('convertToInteractive',\n",
              "                                                     [key], {});\n",
              "          if (!dataTable) return;\n",
              "\n",
              "          const docLinkHtml = 'Like what you see? Visit the ' +\n",
              "            '<a target=\"_blank\" href=https://colab.research.google.com/notebooks/data_table.ipynb>data table notebook</a>'\n",
              "            + ' to learn more about interactive tables.';\n",
              "          element.innerHTML = '';\n",
              "          dataTable['output_type'] = 'display_data';\n",
              "          await google.colab.output.renderOutput(dataTable, element);\n",
              "          const docLink = document.createElement('div');\n",
              "          docLink.innerHTML = docLinkHtml;\n",
              "          element.appendChild(docLink);\n",
              "        }\n",
              "      </script>\n",
              "    </div>\n",
              "  </div>\n",
              "  "
            ]
          },
          "metadata": {},
          "execution_count": 7
        }
      ],
      "source": [
        "valores_status = {\n",
        "    1: 'ok',\n",
        "    2: 'default',\n",
        "    0: 'unk'\n",
        "}\n",
        "\n",
        "df.status = df.status.map(valores_status)\n",
        "df.head()"
      ]
    },
    {
      "cell_type": "markdown",
      "id": "3eed80df",
      "metadata": {
        "id": "3eed80df"
      },
      "source": [
        "**Para home**"
      ]
    },
    {
      "cell_type": "code",
      "execution_count": null,
      "id": "86d12078",
      "metadata": {
        "id": "86d12078"
      },
      "outputs": [],
      "source": [
        "valores_home= {\n",
        "    1: 'rent',\n",
        "    2: 'owner',\n",
        "    3: 'private',\n",
        "    4: 'ignore',\n",
        "    5: 'parents',\n",
        "    6: 'other',\n",
        "    0: 'unk'\n",
        "}\n",
        "\n",
        "df.home = df.home.map(valores_home)"
      ]
    },
    {
      "cell_type": "markdown",
      "id": "d7914ae3",
      "metadata": {
        "id": "d7914ae3"
      },
      "source": [
        "**Para marital**"
      ]
    },
    {
      "cell_type": "code",
      "execution_count": null,
      "id": "0c510f19",
      "metadata": {
        "id": "0c510f19"
      },
      "outputs": [],
      "source": [
        "valores_marital = {\n",
        "    1: 'single',\n",
        "    2: 'married',\n",
        "    3: 'widow',\n",
        "    4: 'separated',\n",
        "    5: 'divorced',\n",
        "    0: 'unk'\n",
        "}\n",
        "\n",
        "df.marital = df.marital.map(valores_marital)"
      ]
    },
    {
      "cell_type": "markdown",
      "id": "54ec74be",
      "metadata": {
        "id": "54ec74be"
      },
      "source": [
        "**Para records**"
      ]
    },
    {
      "cell_type": "code",
      "execution_count": null,
      "id": "e1c27f20",
      "metadata": {
        "id": "e1c27f20"
      },
      "outputs": [],
      "source": [
        "valores_records = {\n",
        "    1: 'no',\n",
        "    2: 'yes',\n",
        "    0: 'unk'\n",
        "}\n",
        "\n",
        "df.records = df.records.map(valores_records)"
      ]
    },
    {
      "cell_type": "markdown",
      "id": "54e746f4",
      "metadata": {
        "id": "54e746f4"
      },
      "source": [
        "**Para job**"
      ]
    },
    {
      "cell_type": "code",
      "execution_count": null,
      "id": "54838265",
      "metadata": {
        "id": "54838265"
      },
      "outputs": [],
      "source": [
        "valores_job = {\n",
        "    1: 'fixed',\n",
        "    2: 'partime',\n",
        "    3: 'freelance',\n",
        "    4: 'others',\n",
        "    0: 'unk'\n",
        "}\n",
        "\n",
        "df.job = df.job.map(valores_job)\n"
      ]
    },
    {
      "cell_type": "code",
      "execution_count": null,
      "id": "9faf5c11",
      "metadata": {
        "colab": {
          "base_uri": "https://localhost:8080/",
          "height": 270
        },
        "id": "9faf5c11",
        "outputId": "d3431fd8-a584-4962-afa9-8411ea1e5c46"
      },
      "outputs": [
        {
          "output_type": "execute_result",
          "data": {
            "text/plain": [
              "    status  seniority   home  time  age  marital records        job  expenses  \\\n",
              "0       ok          9   rent    60   30  married      no  freelance        73   \n",
              "1       ok         17   rent    60   58    widow      no      fixed        48   \n",
              "2  default         10  owner    36   46  married     yes  freelance        90   \n",
              "3       ok          0   rent    60   24   single      no      fixed        63   \n",
              "4       ok          0   rent    36   26   single      no      fixed        46   \n",
              "\n",
              "   income  assets  debt  amount  price  \n",
              "0     129       0     0     800    846  \n",
              "1     131       0     0    1000   1658  \n",
              "2     200    3000     0    2000   2985  \n",
              "3     182    2500     0     900   1325  \n",
              "4     107       0     0     310    910  "
            ],
            "text/html": [
              "\n",
              "  <div id=\"df-62f21d45-7673-4520-8308-fb6aa624a730\">\n",
              "    <div class=\"colab-df-container\">\n",
              "      <div>\n",
              "<style scoped>\n",
              "    .dataframe tbody tr th:only-of-type {\n",
              "        vertical-align: middle;\n",
              "    }\n",
              "\n",
              "    .dataframe tbody tr th {\n",
              "        vertical-align: top;\n",
              "    }\n",
              "\n",
              "    .dataframe thead th {\n",
              "        text-align: right;\n",
              "    }\n",
              "</style>\n",
              "<table border=\"1\" class=\"dataframe\">\n",
              "  <thead>\n",
              "    <tr style=\"text-align: right;\">\n",
              "      <th></th>\n",
              "      <th>status</th>\n",
              "      <th>seniority</th>\n",
              "      <th>home</th>\n",
              "      <th>time</th>\n",
              "      <th>age</th>\n",
              "      <th>marital</th>\n",
              "      <th>records</th>\n",
              "      <th>job</th>\n",
              "      <th>expenses</th>\n",
              "      <th>income</th>\n",
              "      <th>assets</th>\n",
              "      <th>debt</th>\n",
              "      <th>amount</th>\n",
              "      <th>price</th>\n",
              "    </tr>\n",
              "  </thead>\n",
              "  <tbody>\n",
              "    <tr>\n",
              "      <th>0</th>\n",
              "      <td>ok</td>\n",
              "      <td>9</td>\n",
              "      <td>rent</td>\n",
              "      <td>60</td>\n",
              "      <td>30</td>\n",
              "      <td>married</td>\n",
              "      <td>no</td>\n",
              "      <td>freelance</td>\n",
              "      <td>73</td>\n",
              "      <td>129</td>\n",
              "      <td>0</td>\n",
              "      <td>0</td>\n",
              "      <td>800</td>\n",
              "      <td>846</td>\n",
              "    </tr>\n",
              "    <tr>\n",
              "      <th>1</th>\n",
              "      <td>ok</td>\n",
              "      <td>17</td>\n",
              "      <td>rent</td>\n",
              "      <td>60</td>\n",
              "      <td>58</td>\n",
              "      <td>widow</td>\n",
              "      <td>no</td>\n",
              "      <td>fixed</td>\n",
              "      <td>48</td>\n",
              "      <td>131</td>\n",
              "      <td>0</td>\n",
              "      <td>0</td>\n",
              "      <td>1000</td>\n",
              "      <td>1658</td>\n",
              "    </tr>\n",
              "    <tr>\n",
              "      <th>2</th>\n",
              "      <td>default</td>\n",
              "      <td>10</td>\n",
              "      <td>owner</td>\n",
              "      <td>36</td>\n",
              "      <td>46</td>\n",
              "      <td>married</td>\n",
              "      <td>yes</td>\n",
              "      <td>freelance</td>\n",
              "      <td>90</td>\n",
              "      <td>200</td>\n",
              "      <td>3000</td>\n",
              "      <td>0</td>\n",
              "      <td>2000</td>\n",
              "      <td>2985</td>\n",
              "    </tr>\n",
              "    <tr>\n",
              "      <th>3</th>\n",
              "      <td>ok</td>\n",
              "      <td>0</td>\n",
              "      <td>rent</td>\n",
              "      <td>60</td>\n",
              "      <td>24</td>\n",
              "      <td>single</td>\n",
              "      <td>no</td>\n",
              "      <td>fixed</td>\n",
              "      <td>63</td>\n",
              "      <td>182</td>\n",
              "      <td>2500</td>\n",
              "      <td>0</td>\n",
              "      <td>900</td>\n",
              "      <td>1325</td>\n",
              "    </tr>\n",
              "    <tr>\n",
              "      <th>4</th>\n",
              "      <td>ok</td>\n",
              "      <td>0</td>\n",
              "      <td>rent</td>\n",
              "      <td>36</td>\n",
              "      <td>26</td>\n",
              "      <td>single</td>\n",
              "      <td>no</td>\n",
              "      <td>fixed</td>\n",
              "      <td>46</td>\n",
              "      <td>107</td>\n",
              "      <td>0</td>\n",
              "      <td>0</td>\n",
              "      <td>310</td>\n",
              "      <td>910</td>\n",
              "    </tr>\n",
              "  </tbody>\n",
              "</table>\n",
              "</div>\n",
              "      <button class=\"colab-df-convert\" onclick=\"convertToInteractive('df-62f21d45-7673-4520-8308-fb6aa624a730')\"\n",
              "              title=\"Convert this dataframe to an interactive table.\"\n",
              "              style=\"display:none;\">\n",
              "        \n",
              "  <svg xmlns=\"http://www.w3.org/2000/svg\" height=\"24px\"viewBox=\"0 0 24 24\"\n",
              "       width=\"24px\">\n",
              "    <path d=\"M0 0h24v24H0V0z\" fill=\"none\"/>\n",
              "    <path d=\"M18.56 5.44l.94 2.06.94-2.06 2.06-.94-2.06-.94-.94-2.06-.94 2.06-2.06.94zm-11 1L8.5 8.5l.94-2.06 2.06-.94-2.06-.94L8.5 2.5l-.94 2.06-2.06.94zm10 10l.94 2.06.94-2.06 2.06-.94-2.06-.94-.94-2.06-.94 2.06-2.06.94z\"/><path d=\"M17.41 7.96l-1.37-1.37c-.4-.4-.92-.59-1.43-.59-.52 0-1.04.2-1.43.59L10.3 9.45l-7.72 7.72c-.78.78-.78 2.05 0 2.83L4 21.41c.39.39.9.59 1.41.59.51 0 1.02-.2 1.41-.59l7.78-7.78 2.81-2.81c.8-.78.8-2.07 0-2.86zM5.41 20L4 18.59l7.72-7.72 1.47 1.35L5.41 20z\"/>\n",
              "  </svg>\n",
              "      </button>\n",
              "      \n",
              "  <style>\n",
              "    .colab-df-container {\n",
              "      display:flex;\n",
              "      flex-wrap:wrap;\n",
              "      gap: 12px;\n",
              "    }\n",
              "\n",
              "    .colab-df-convert {\n",
              "      background-color: #E8F0FE;\n",
              "      border: none;\n",
              "      border-radius: 50%;\n",
              "      cursor: pointer;\n",
              "      display: none;\n",
              "      fill: #1967D2;\n",
              "      height: 32px;\n",
              "      padding: 0 0 0 0;\n",
              "      width: 32px;\n",
              "    }\n",
              "\n",
              "    .colab-df-convert:hover {\n",
              "      background-color: #E2EBFA;\n",
              "      box-shadow: 0px 1px 2px rgba(60, 64, 67, 0.3), 0px 1px 3px 1px rgba(60, 64, 67, 0.15);\n",
              "      fill: #174EA6;\n",
              "    }\n",
              "\n",
              "    [theme=dark] .colab-df-convert {\n",
              "      background-color: #3B4455;\n",
              "      fill: #D2E3FC;\n",
              "    }\n",
              "\n",
              "    [theme=dark] .colab-df-convert:hover {\n",
              "      background-color: #434B5C;\n",
              "      box-shadow: 0px 1px 3px 1px rgba(0, 0, 0, 0.15);\n",
              "      filter: drop-shadow(0px 1px 2px rgba(0, 0, 0, 0.3));\n",
              "      fill: #FFFFFF;\n",
              "    }\n",
              "  </style>\n",
              "\n",
              "      <script>\n",
              "        const buttonEl =\n",
              "          document.querySelector('#df-62f21d45-7673-4520-8308-fb6aa624a730 button.colab-df-convert');\n",
              "        buttonEl.style.display =\n",
              "          google.colab.kernel.accessAllowed ? 'block' : 'none';\n",
              "\n",
              "        async function convertToInteractive(key) {\n",
              "          const element = document.querySelector('#df-62f21d45-7673-4520-8308-fb6aa624a730');\n",
              "          const dataTable =\n",
              "            await google.colab.kernel.invokeFunction('convertToInteractive',\n",
              "                                                     [key], {});\n",
              "          if (!dataTable) return;\n",
              "\n",
              "          const docLinkHtml = 'Like what you see? Visit the ' +\n",
              "            '<a target=\"_blank\" href=https://colab.research.google.com/notebooks/data_table.ipynb>data table notebook</a>'\n",
              "            + ' to learn more about interactive tables.';\n",
              "          element.innerHTML = '';\n",
              "          dataTable['output_type'] = 'display_data';\n",
              "          await google.colab.output.renderOutput(dataTable, element);\n",
              "          const docLink = document.createElement('div');\n",
              "          docLink.innerHTML = docLinkHtml;\n",
              "          element.appendChild(docLink);\n",
              "        }\n",
              "      </script>\n",
              "    </div>\n",
              "  </div>\n",
              "  "
            ]
          },
          "metadata": {},
          "execution_count": 12
        }
      ],
      "source": [
        "df.head()"
      ]
    },
    {
      "cell_type": "markdown",
      "id": "66799dfc",
      "metadata": {
        "id": "66799dfc"
      },
      "source": [
        "Después de esto, todas las variables categóricas tienen cadenas, no números.\n",
        "Veamos las variables numéricas: "
      ]
    },
    {
      "cell_type": "code",
      "execution_count": null,
      "id": "2a0a6cb7",
      "metadata": {
        "colab": {
          "base_uri": "https://localhost:8080/",
          "height": 364
        },
        "id": "2a0a6cb7",
        "outputId": "c1e87025-a2c8-4046-f384-ce465f613e3f"
      },
      "outputs": [
        {
          "output_type": "execute_result",
          "data": {
            "text/plain": [
              "       seniority    time     age  expenses      income      assets  \\\n",
              "count     4455.0  4455.0  4455.0    4455.0      4455.0      4455.0   \n",
              "mean         8.0    46.0    37.0      56.0    763317.0   1060341.0   \n",
              "std          8.0    15.0    11.0      20.0   8703625.0  10217569.0   \n",
              "min          0.0     6.0    18.0      35.0         0.0         0.0   \n",
              "25%          2.0    36.0    28.0      35.0        80.0         0.0   \n",
              "50%          5.0    48.0    36.0      51.0       120.0      3500.0   \n",
              "75%         12.0    60.0    45.0      72.0       166.0      6000.0   \n",
              "max         48.0    72.0    68.0     180.0  99999999.0  99999999.0   \n",
              "\n",
              "             debt  amount    price  \n",
              "count      4455.0  4455.0   4455.0  \n",
              "mean     404382.0  1039.0   1463.0  \n",
              "std     6344253.0   475.0    628.0  \n",
              "min           0.0   100.0    105.0  \n",
              "25%           0.0   700.0   1118.0  \n",
              "50%           0.0  1000.0   1400.0  \n",
              "75%           0.0  1300.0   1692.0  \n",
              "max    99999999.0  5000.0  11140.0  "
            ],
            "text/html": [
              "\n",
              "  <div id=\"df-f6065616-1b78-4106-bbc0-de4950ab49c6\">\n",
              "    <div class=\"colab-df-container\">\n",
              "      <div>\n",
              "<style scoped>\n",
              "    .dataframe tbody tr th:only-of-type {\n",
              "        vertical-align: middle;\n",
              "    }\n",
              "\n",
              "    .dataframe tbody tr th {\n",
              "        vertical-align: top;\n",
              "    }\n",
              "\n",
              "    .dataframe thead th {\n",
              "        text-align: right;\n",
              "    }\n",
              "</style>\n",
              "<table border=\"1\" class=\"dataframe\">\n",
              "  <thead>\n",
              "    <tr style=\"text-align: right;\">\n",
              "      <th></th>\n",
              "      <th>seniority</th>\n",
              "      <th>time</th>\n",
              "      <th>age</th>\n",
              "      <th>expenses</th>\n",
              "      <th>income</th>\n",
              "      <th>assets</th>\n",
              "      <th>debt</th>\n",
              "      <th>amount</th>\n",
              "      <th>price</th>\n",
              "    </tr>\n",
              "  </thead>\n",
              "  <tbody>\n",
              "    <tr>\n",
              "      <th>count</th>\n",
              "      <td>4455.0</td>\n",
              "      <td>4455.0</td>\n",
              "      <td>4455.0</td>\n",
              "      <td>4455.0</td>\n",
              "      <td>4455.0</td>\n",
              "      <td>4455.0</td>\n",
              "      <td>4455.0</td>\n",
              "      <td>4455.0</td>\n",
              "      <td>4455.0</td>\n",
              "    </tr>\n",
              "    <tr>\n",
              "      <th>mean</th>\n",
              "      <td>8.0</td>\n",
              "      <td>46.0</td>\n",
              "      <td>37.0</td>\n",
              "      <td>56.0</td>\n",
              "      <td>763317.0</td>\n",
              "      <td>1060341.0</td>\n",
              "      <td>404382.0</td>\n",
              "      <td>1039.0</td>\n",
              "      <td>1463.0</td>\n",
              "    </tr>\n",
              "    <tr>\n",
              "      <th>std</th>\n",
              "      <td>8.0</td>\n",
              "      <td>15.0</td>\n",
              "      <td>11.0</td>\n",
              "      <td>20.0</td>\n",
              "      <td>8703625.0</td>\n",
              "      <td>10217569.0</td>\n",
              "      <td>6344253.0</td>\n",
              "      <td>475.0</td>\n",
              "      <td>628.0</td>\n",
              "    </tr>\n",
              "    <tr>\n",
              "      <th>min</th>\n",
              "      <td>0.0</td>\n",
              "      <td>6.0</td>\n",
              "      <td>18.0</td>\n",
              "      <td>35.0</td>\n",
              "      <td>0.0</td>\n",
              "      <td>0.0</td>\n",
              "      <td>0.0</td>\n",
              "      <td>100.0</td>\n",
              "      <td>105.0</td>\n",
              "    </tr>\n",
              "    <tr>\n",
              "      <th>25%</th>\n",
              "      <td>2.0</td>\n",
              "      <td>36.0</td>\n",
              "      <td>28.0</td>\n",
              "      <td>35.0</td>\n",
              "      <td>80.0</td>\n",
              "      <td>0.0</td>\n",
              "      <td>0.0</td>\n",
              "      <td>700.0</td>\n",
              "      <td>1118.0</td>\n",
              "    </tr>\n",
              "    <tr>\n",
              "      <th>50%</th>\n",
              "      <td>5.0</td>\n",
              "      <td>48.0</td>\n",
              "      <td>36.0</td>\n",
              "      <td>51.0</td>\n",
              "      <td>120.0</td>\n",
              "      <td>3500.0</td>\n",
              "      <td>0.0</td>\n",
              "      <td>1000.0</td>\n",
              "      <td>1400.0</td>\n",
              "    </tr>\n",
              "    <tr>\n",
              "      <th>75%</th>\n",
              "      <td>12.0</td>\n",
              "      <td>60.0</td>\n",
              "      <td>45.0</td>\n",
              "      <td>72.0</td>\n",
              "      <td>166.0</td>\n",
              "      <td>6000.0</td>\n",
              "      <td>0.0</td>\n",
              "      <td>1300.0</td>\n",
              "      <td>1692.0</td>\n",
              "    </tr>\n",
              "    <tr>\n",
              "      <th>max</th>\n",
              "      <td>48.0</td>\n",
              "      <td>72.0</td>\n",
              "      <td>68.0</td>\n",
              "      <td>180.0</td>\n",
              "      <td>99999999.0</td>\n",
              "      <td>99999999.0</td>\n",
              "      <td>99999999.0</td>\n",
              "      <td>5000.0</td>\n",
              "      <td>11140.0</td>\n",
              "    </tr>\n",
              "  </tbody>\n",
              "</table>\n",
              "</div>\n",
              "      <button class=\"colab-df-convert\" onclick=\"convertToInteractive('df-f6065616-1b78-4106-bbc0-de4950ab49c6')\"\n",
              "              title=\"Convert this dataframe to an interactive table.\"\n",
              "              style=\"display:none;\">\n",
              "        \n",
              "  <svg xmlns=\"http://www.w3.org/2000/svg\" height=\"24px\"viewBox=\"0 0 24 24\"\n",
              "       width=\"24px\">\n",
              "    <path d=\"M0 0h24v24H0V0z\" fill=\"none\"/>\n",
              "    <path d=\"M18.56 5.44l.94 2.06.94-2.06 2.06-.94-2.06-.94-.94-2.06-.94 2.06-2.06.94zm-11 1L8.5 8.5l.94-2.06 2.06-.94-2.06-.94L8.5 2.5l-.94 2.06-2.06.94zm10 10l.94 2.06.94-2.06 2.06-.94-2.06-.94-.94-2.06-.94 2.06-2.06.94z\"/><path d=\"M17.41 7.96l-1.37-1.37c-.4-.4-.92-.59-1.43-.59-.52 0-1.04.2-1.43.59L10.3 9.45l-7.72 7.72c-.78.78-.78 2.05 0 2.83L4 21.41c.39.39.9.59 1.41.59.51 0 1.02-.2 1.41-.59l7.78-7.78 2.81-2.81c.8-.78.8-2.07 0-2.86zM5.41 20L4 18.59l7.72-7.72 1.47 1.35L5.41 20z\"/>\n",
              "  </svg>\n",
              "      </button>\n",
              "      \n",
              "  <style>\n",
              "    .colab-df-container {\n",
              "      display:flex;\n",
              "      flex-wrap:wrap;\n",
              "      gap: 12px;\n",
              "    }\n",
              "\n",
              "    .colab-df-convert {\n",
              "      background-color: #E8F0FE;\n",
              "      border: none;\n",
              "      border-radius: 50%;\n",
              "      cursor: pointer;\n",
              "      display: none;\n",
              "      fill: #1967D2;\n",
              "      height: 32px;\n",
              "      padding: 0 0 0 0;\n",
              "      width: 32px;\n",
              "    }\n",
              "\n",
              "    .colab-df-convert:hover {\n",
              "      background-color: #E2EBFA;\n",
              "      box-shadow: 0px 1px 2px rgba(60, 64, 67, 0.3), 0px 1px 3px 1px rgba(60, 64, 67, 0.15);\n",
              "      fill: #174EA6;\n",
              "    }\n",
              "\n",
              "    [theme=dark] .colab-df-convert {\n",
              "      background-color: #3B4455;\n",
              "      fill: #D2E3FC;\n",
              "    }\n",
              "\n",
              "    [theme=dark] .colab-df-convert:hover {\n",
              "      background-color: #434B5C;\n",
              "      box-shadow: 0px 1px 3px 1px rgba(0, 0, 0, 0.15);\n",
              "      filter: drop-shadow(0px 1px 2px rgba(0, 0, 0, 0.3));\n",
              "      fill: #FFFFFF;\n",
              "    }\n",
              "  </style>\n",
              "\n",
              "      <script>\n",
              "        const buttonEl =\n",
              "          document.querySelector('#df-f6065616-1b78-4106-bbc0-de4950ab49c6 button.colab-df-convert');\n",
              "        buttonEl.style.display =\n",
              "          google.colab.kernel.accessAllowed ? 'block' : 'none';\n",
              "\n",
              "        async function convertToInteractive(key) {\n",
              "          const element = document.querySelector('#df-f6065616-1b78-4106-bbc0-de4950ab49c6');\n",
              "          const dataTable =\n",
              "            await google.colab.kernel.invokeFunction('convertToInteractive',\n",
              "                                                     [key], {});\n",
              "          if (!dataTable) return;\n",
              "\n",
              "          const docLinkHtml = 'Like what you see? Visit the ' +\n",
              "            '<a target=\"_blank\" href=https://colab.research.google.com/notebooks/data_table.ipynb>data table notebook</a>'\n",
              "            + ' to learn more about interactive tables.';\n",
              "          element.innerHTML = '';\n",
              "          dataTable['output_type'] = 'display_data';\n",
              "          await google.colab.output.renderOutput(dataTable, element);\n",
              "          const docLink = document.createElement('div');\n",
              "          docLink.innerHTML = docLinkHtml;\n",
              "          element.appendChild(docLink);\n",
              "        }\n",
              "      </script>\n",
              "    </div>\n",
              "  </div>\n",
              "  "
            ]
          },
          "metadata": {},
          "execution_count": 13
        }
      ],
      "source": [
        "df.describe().round()"
      ]
    },
    {
      "cell_type": "markdown",
      "id": "e23fd55c",
      "metadata": {
        "id": "e23fd55c"
      },
      "source": [
        "El número `9999999` indican valores faltantes. Vamos a reemplazarlo por NaN: "
      ]
    },
    {
      "cell_type": "code",
      "execution_count": null,
      "id": "45ebe680",
      "metadata": {
        "id": "45ebe680"
      },
      "outputs": [],
      "source": [
        "for c in ['income', 'assets', 'debt']:\n",
        "    df[c] = df[c].replace(to_replace=99999999, value=np.nan)"
      ]
    },
    {
      "cell_type": "code",
      "execution_count": null,
      "id": "0fe2d957",
      "metadata": {
        "colab": {
          "base_uri": "https://localhost:8080/"
        },
        "id": "0fe2d957",
        "outputId": "5651df4c-7a04-4235-f9d9-d189b10be971"
      },
      "outputs": [
        {
          "output_type": "execute_result",
          "data": {
            "text/plain": [
              "status        0\n",
              "seniority     0\n",
              "home          0\n",
              "time          0\n",
              "age           0\n",
              "marital       0\n",
              "records       0\n",
              "job           0\n",
              "expenses      0\n",
              "income       34\n",
              "assets       47\n",
              "debt         18\n",
              "amount        0\n",
              "price         0\n",
              "dtype: int64"
            ]
          },
          "metadata": {},
          "execution_count": 17
        }
      ],
      "source": [
        "df.isnull().sum()"
      ]
    },
    {
      "cell_type": "markdown",
      "id": "77ec3210",
      "metadata": {
        "id": "77ec3210"
      },
      "source": [
        "Después de esta transformación, vemos que no aparecen más números sospechosos en el resumen del dataframe."
      ]
    },
    {
      "cell_type": "code",
      "execution_count": null,
      "id": "e81209c9",
      "metadata": {
        "colab": {
          "base_uri": "https://localhost:8080/",
          "height": 364
        },
        "id": "e81209c9",
        "outputId": "64444e2f-eb34-4b2f-c0a1-69ef89f943a5"
      },
      "outputs": [
        {
          "output_type": "execute_result",
          "data": {
            "text/plain": [
              "       seniority    time     age  expenses  income    assets     debt  amount  \\\n",
              "count     4455.0  4455.0  4455.0    4455.0  4421.0    4408.0   4437.0  4455.0   \n",
              "mean         8.0    46.0    37.0      56.0   131.0    5403.0    343.0  1039.0   \n",
              "std          8.0    15.0    11.0      20.0    86.0   11573.0   1246.0   475.0   \n",
              "min          0.0     6.0    18.0      35.0     0.0       0.0      0.0   100.0   \n",
              "25%          2.0    36.0    28.0      35.0    80.0       0.0      0.0   700.0   \n",
              "50%          5.0    48.0    36.0      51.0   120.0    3000.0      0.0  1000.0   \n",
              "75%         12.0    60.0    45.0      72.0   165.0    6000.0      0.0  1300.0   \n",
              "max         48.0    72.0    68.0     180.0   959.0  300000.0  30000.0  5000.0   \n",
              "\n",
              "         price  \n",
              "count   4455.0  \n",
              "mean    1463.0  \n",
              "std      628.0  \n",
              "min      105.0  \n",
              "25%     1118.0  \n",
              "50%     1400.0  \n",
              "75%     1692.0  \n",
              "max    11140.0  "
            ],
            "text/html": [
              "\n",
              "  <div id=\"df-8a04b1ae-8a4e-4277-9fc5-3cc3a29c939b\">\n",
              "    <div class=\"colab-df-container\">\n",
              "      <div>\n",
              "<style scoped>\n",
              "    .dataframe tbody tr th:only-of-type {\n",
              "        vertical-align: middle;\n",
              "    }\n",
              "\n",
              "    .dataframe tbody tr th {\n",
              "        vertical-align: top;\n",
              "    }\n",
              "\n",
              "    .dataframe thead th {\n",
              "        text-align: right;\n",
              "    }\n",
              "</style>\n",
              "<table border=\"1\" class=\"dataframe\">\n",
              "  <thead>\n",
              "    <tr style=\"text-align: right;\">\n",
              "      <th></th>\n",
              "      <th>seniority</th>\n",
              "      <th>time</th>\n",
              "      <th>age</th>\n",
              "      <th>expenses</th>\n",
              "      <th>income</th>\n",
              "      <th>assets</th>\n",
              "      <th>debt</th>\n",
              "      <th>amount</th>\n",
              "      <th>price</th>\n",
              "    </tr>\n",
              "  </thead>\n",
              "  <tbody>\n",
              "    <tr>\n",
              "      <th>count</th>\n",
              "      <td>4455.0</td>\n",
              "      <td>4455.0</td>\n",
              "      <td>4455.0</td>\n",
              "      <td>4455.0</td>\n",
              "      <td>4421.0</td>\n",
              "      <td>4408.0</td>\n",
              "      <td>4437.0</td>\n",
              "      <td>4455.0</td>\n",
              "      <td>4455.0</td>\n",
              "    </tr>\n",
              "    <tr>\n",
              "      <th>mean</th>\n",
              "      <td>8.0</td>\n",
              "      <td>46.0</td>\n",
              "      <td>37.0</td>\n",
              "      <td>56.0</td>\n",
              "      <td>131.0</td>\n",
              "      <td>5403.0</td>\n",
              "      <td>343.0</td>\n",
              "      <td>1039.0</td>\n",
              "      <td>1463.0</td>\n",
              "    </tr>\n",
              "    <tr>\n",
              "      <th>std</th>\n",
              "      <td>8.0</td>\n",
              "      <td>15.0</td>\n",
              "      <td>11.0</td>\n",
              "      <td>20.0</td>\n",
              "      <td>86.0</td>\n",
              "      <td>11573.0</td>\n",
              "      <td>1246.0</td>\n",
              "      <td>475.0</td>\n",
              "      <td>628.0</td>\n",
              "    </tr>\n",
              "    <tr>\n",
              "      <th>min</th>\n",
              "      <td>0.0</td>\n",
              "      <td>6.0</td>\n",
              "      <td>18.0</td>\n",
              "      <td>35.0</td>\n",
              "      <td>0.0</td>\n",
              "      <td>0.0</td>\n",
              "      <td>0.0</td>\n",
              "      <td>100.0</td>\n",
              "      <td>105.0</td>\n",
              "    </tr>\n",
              "    <tr>\n",
              "      <th>25%</th>\n",
              "      <td>2.0</td>\n",
              "      <td>36.0</td>\n",
              "      <td>28.0</td>\n",
              "      <td>35.0</td>\n",
              "      <td>80.0</td>\n",
              "      <td>0.0</td>\n",
              "      <td>0.0</td>\n",
              "      <td>700.0</td>\n",
              "      <td>1118.0</td>\n",
              "    </tr>\n",
              "    <tr>\n",
              "      <th>50%</th>\n",
              "      <td>5.0</td>\n",
              "      <td>48.0</td>\n",
              "      <td>36.0</td>\n",
              "      <td>51.0</td>\n",
              "      <td>120.0</td>\n",
              "      <td>3000.0</td>\n",
              "      <td>0.0</td>\n",
              "      <td>1000.0</td>\n",
              "      <td>1400.0</td>\n",
              "    </tr>\n",
              "    <tr>\n",
              "      <th>75%</th>\n",
              "      <td>12.0</td>\n",
              "      <td>60.0</td>\n",
              "      <td>45.0</td>\n",
              "      <td>72.0</td>\n",
              "      <td>165.0</td>\n",
              "      <td>6000.0</td>\n",
              "      <td>0.0</td>\n",
              "      <td>1300.0</td>\n",
              "      <td>1692.0</td>\n",
              "    </tr>\n",
              "    <tr>\n",
              "      <th>max</th>\n",
              "      <td>48.0</td>\n",
              "      <td>72.0</td>\n",
              "      <td>68.0</td>\n",
              "      <td>180.0</td>\n",
              "      <td>959.0</td>\n",
              "      <td>300000.0</td>\n",
              "      <td>30000.0</td>\n",
              "      <td>5000.0</td>\n",
              "      <td>11140.0</td>\n",
              "    </tr>\n",
              "  </tbody>\n",
              "</table>\n",
              "</div>\n",
              "      <button class=\"colab-df-convert\" onclick=\"convertToInteractive('df-8a04b1ae-8a4e-4277-9fc5-3cc3a29c939b')\"\n",
              "              title=\"Convert this dataframe to an interactive table.\"\n",
              "              style=\"display:none;\">\n",
              "        \n",
              "  <svg xmlns=\"http://www.w3.org/2000/svg\" height=\"24px\"viewBox=\"0 0 24 24\"\n",
              "       width=\"24px\">\n",
              "    <path d=\"M0 0h24v24H0V0z\" fill=\"none\"/>\n",
              "    <path d=\"M18.56 5.44l.94 2.06.94-2.06 2.06-.94-2.06-.94-.94-2.06-.94 2.06-2.06.94zm-11 1L8.5 8.5l.94-2.06 2.06-.94-2.06-.94L8.5 2.5l-.94 2.06-2.06.94zm10 10l.94 2.06.94-2.06 2.06-.94-2.06-.94-.94-2.06-.94 2.06-2.06.94z\"/><path d=\"M17.41 7.96l-1.37-1.37c-.4-.4-.92-.59-1.43-.59-.52 0-1.04.2-1.43.59L10.3 9.45l-7.72 7.72c-.78.78-.78 2.05 0 2.83L4 21.41c.39.39.9.59 1.41.59.51 0 1.02-.2 1.41-.59l7.78-7.78 2.81-2.81c.8-.78.8-2.07 0-2.86zM5.41 20L4 18.59l7.72-7.72 1.47 1.35L5.41 20z\"/>\n",
              "  </svg>\n",
              "      </button>\n",
              "      \n",
              "  <style>\n",
              "    .colab-df-container {\n",
              "      display:flex;\n",
              "      flex-wrap:wrap;\n",
              "      gap: 12px;\n",
              "    }\n",
              "\n",
              "    .colab-df-convert {\n",
              "      background-color: #E8F0FE;\n",
              "      border: none;\n",
              "      border-radius: 50%;\n",
              "      cursor: pointer;\n",
              "      display: none;\n",
              "      fill: #1967D2;\n",
              "      height: 32px;\n",
              "      padding: 0 0 0 0;\n",
              "      width: 32px;\n",
              "    }\n",
              "\n",
              "    .colab-df-convert:hover {\n",
              "      background-color: #E2EBFA;\n",
              "      box-shadow: 0px 1px 2px rgba(60, 64, 67, 0.3), 0px 1px 3px 1px rgba(60, 64, 67, 0.15);\n",
              "      fill: #174EA6;\n",
              "    }\n",
              "\n",
              "    [theme=dark] .colab-df-convert {\n",
              "      background-color: #3B4455;\n",
              "      fill: #D2E3FC;\n",
              "    }\n",
              "\n",
              "    [theme=dark] .colab-df-convert:hover {\n",
              "      background-color: #434B5C;\n",
              "      box-shadow: 0px 1px 3px 1px rgba(0, 0, 0, 0.15);\n",
              "      filter: drop-shadow(0px 1px 2px rgba(0, 0, 0, 0.3));\n",
              "      fill: #FFFFFF;\n",
              "    }\n",
              "  </style>\n",
              "\n",
              "      <script>\n",
              "        const buttonEl =\n",
              "          document.querySelector('#df-8a04b1ae-8a4e-4277-9fc5-3cc3a29c939b button.colab-df-convert');\n",
              "        buttonEl.style.display =\n",
              "          google.colab.kernel.accessAllowed ? 'block' : 'none';\n",
              "\n",
              "        async function convertToInteractive(key) {\n",
              "          const element = document.querySelector('#df-8a04b1ae-8a4e-4277-9fc5-3cc3a29c939b');\n",
              "          const dataTable =\n",
              "            await google.colab.kernel.invokeFunction('convertToInteractive',\n",
              "                                                     [key], {});\n",
              "          if (!dataTable) return;\n",
              "\n",
              "          const docLinkHtml = 'Like what you see? Visit the ' +\n",
              "            '<a target=\"_blank\" href=https://colab.research.google.com/notebooks/data_table.ipynb>data table notebook</a>'\n",
              "            + ' to learn more about interactive tables.';\n",
              "          element.innerHTML = '';\n",
              "          dataTable['output_type'] = 'display_data';\n",
              "          await google.colab.output.renderOutput(dataTable, element);\n",
              "          const docLink = document.createElement('div');\n",
              "          docLink.innerHTML = docLinkHtml;\n",
              "          element.appendChild(docLink);\n",
              "        }\n",
              "      </script>\n",
              "    </div>\n",
              "  </div>\n",
              "  "
            ]
          },
          "metadata": {},
          "execution_count": 18
        }
      ],
      "source": [
        "df.describe().round()"
      ]
    },
    {
      "cell_type": "markdown",
      "id": "bd625d8f",
      "metadata": {
        "id": "bd625d8f"
      },
      "source": [
        "Veamos la variable objetivo. "
      ]
    },
    {
      "cell_type": "code",
      "execution_count": null,
      "id": "c94d2744",
      "metadata": {
        "colab": {
          "base_uri": "https://localhost:8080/"
        },
        "id": "c94d2744",
        "outputId": "800cce0c-51d9-43a0-f860-580420f6ae98"
      },
      "outputs": [
        {
          "output_type": "execute_result",
          "data": {
            "text/plain": [
              "ok         3200\n",
              "default    1254\n",
              "unk           1\n",
              "Name: status, dtype: int64"
            ]
          },
          "metadata": {},
          "execution_count": 19
        }
      ],
      "source": [
        "df.status.value_counts()"
      ]
    },
    {
      "cell_type": "markdown",
      "id": "fc7a9dd4",
      "metadata": {
        "id": "fc7a9dd4"
      },
      "source": [
        "Hay un registro cuyo estado es `unknown`. Eliminémoslo, no es útil para nosotros. "
      ]
    },
    {
      "cell_type": "code",
      "execution_count": null,
      "id": "5e3a9309",
      "metadata": {
        "id": "5e3a9309"
      },
      "outputs": [],
      "source": [
        "df = df[df.status != 'unk']"
      ]
    },
    {
      "cell_type": "code",
      "execution_count": null,
      "id": "2c82733f",
      "metadata": {
        "colab": {
          "base_uri": "https://localhost:8080/"
        },
        "id": "2c82733f",
        "outputId": "e476d007-7120-476c-8f91-ca82183f9335"
      },
      "outputs": [
        {
          "output_type": "execute_result",
          "data": {
            "text/plain": [
              "status        0\n",
              "seniority     0\n",
              "home          0\n",
              "time          0\n",
              "age           0\n",
              "marital       0\n",
              "records       0\n",
              "job           0\n",
              "expenses      0\n",
              "income       34\n",
              "assets       47\n",
              "debt         18\n",
              "amount        0\n",
              "price         0\n",
              "dtype: int64"
            ]
          },
          "metadata": {},
          "execution_count": 21
        }
      ],
      "source": [
        "df.isnull().sum()"
      ]
    },
    {
      "cell_type": "markdown",
      "id": "8191f4d7",
      "metadata": {
        "id": "8191f4d7"
      },
      "source": [
        "### Preparación del conjunto de datos \n",
        "\n",
        "\n",
        "* Dividimos el conjunto de datos en entrenamiento, validación y prueba. \n",
        "\n",
        "* Manejamos valores faltantes. \n",
        "\n",
        "* Utilizamos la codificación one-hot para codificar variables categóricas. \n",
        "\n",
        "* Creae la matriz de características `X` y la variable objetivo `y`. \n"
      ]
    },
    {
      "cell_type": "code",
      "execution_count": null,
      "id": "db882e62",
      "metadata": {
        "id": "db882e62"
      },
      "outputs": [],
      "source": [
        "from sklearn.model_selection import train_test_split"
      ]
    },
    {
      "cell_type": "code",
      "execution_count": null,
      "id": "4df4f9cc",
      "metadata": {
        "id": "4df4f9cc"
      },
      "outputs": [],
      "source": [
        "df_train_completo, df_test = train_test_split(df, test_size=0.2, random_state=11)\n",
        "df_train, df_val = train_test_split(df_train_completo, test_size=0.25, random_state=11)"
      ]
    },
    {
      "cell_type": "code",
      "execution_count": null,
      "id": "a35720b0",
      "metadata": {
        "colab": {
          "base_uri": "https://localhost:8080/"
        },
        "id": "a35720b0",
        "outputId": "b225e7cf-d0fc-4e63-8dab-ee8315c39910"
      },
      "outputs": [
        {
          "output_type": "execute_result",
          "data": {
            "text/plain": [
              "(2672, 891, 891)"
            ]
          },
          "metadata": {},
          "execution_count": 24
        }
      ],
      "source": [
        "len(df_train), len(df_val), len(df_test)"
      ]
    },
    {
      "cell_type": "markdown",
      "id": "5cded956",
      "metadata": {
        "id": "5cded956"
      },
      "source": [
        "El resultado que queremos predecir es el `status`. Lo usaremos para entrenar un modelo, por lo que es `y`, la variable objetivo."
      ]
    },
    {
      "cell_type": "code",
      "execution_count": null,
      "id": "072cb8fc",
      "metadata": {
        "id": "072cb8fc"
      },
      "outputs": [],
      "source": [
        "y_train = (df_train.status == 'default').values\n",
        "y_val = (df_val.status == 'default').values"
      ]
    },
    {
      "cell_type": "code",
      "execution_count": null,
      "id": "2310e8f6",
      "metadata": {
        "id": "2310e8f6"
      },
      "outputs": [],
      "source": [
        "del df_train['status']\n",
        "del df_val['status']"
      ]
    },
    {
      "cell_type": "markdown",
      "id": "a72dbb95",
      "metadata": {
        "id": "a72dbb95"
      },
      "source": [
        "Veamos que sucede con los valores faltantes."
      ]
    },
    {
      "cell_type": "code",
      "execution_count": null,
      "id": "16cc3033",
      "metadata": {
        "colab": {
          "base_uri": "https://localhost:8080/"
        },
        "id": "16cc3033",
        "outputId": "5d14bb89-c081-47c5-b25d-f8792ac05b0c"
      },
      "outputs": [
        {
          "output_type": "execute_result",
          "data": {
            "text/plain": [
              "seniority     0\n",
              "home          0\n",
              "time          0\n",
              "age           0\n",
              "marital       0\n",
              "records       0\n",
              "job           0\n",
              "expenses      0\n",
              "income       25\n",
              "assets       30\n",
              "debt         11\n",
              "amount        0\n",
              "price         0\n",
              "dtype: int64"
            ]
          },
          "metadata": {},
          "execution_count": 27
        }
      ],
      "source": [
        "df_train.isnull().sum()"
      ]
    },
    {
      "cell_type": "markdown",
      "id": "1b9247b3",
      "metadata": {
        "id": "1b9247b3"
      },
      "source": [
        "Podemos reemplazar los valores faltantes con cero:"
      ]
    },
    {
      "cell_type": "code",
      "execution_count": null,
      "id": "0a4725ba",
      "metadata": {
        "id": "0a4725ba"
      },
      "outputs": [],
      "source": [
        "df_train = df_train.fillna(0).to_dict(orient='records')\n",
        "df_val = df_val.fillna(0).to_dict(orient='records')"
      ]
    },
    {
      "cell_type": "code",
      "execution_count": null,
      "id": "2e36ad44",
      "metadata": {
        "colab": {
          "base_uri": "https://localhost:8080/"
        },
        "id": "2e36ad44",
        "outputId": "59b206ab-a79f-4a7f-99ad-de92e6decc43"
      },
      "outputs": [
        {
          "output_type": "execute_result",
          "data": {
            "text/plain": [
              "{'seniority': 10,\n",
              " 'home': 'owner',\n",
              " 'time': 36,\n",
              " 'age': 36,\n",
              " 'marital': 'married',\n",
              " 'records': 'no',\n",
              " 'job': 'freelance',\n",
              " 'expenses': 75,\n",
              " 'income': 0.0,\n",
              " 'assets': 10000.0,\n",
              " 'debt': 0.0,\n",
              " 'amount': 1000,\n",
              " 'price': 1400}"
            ]
          },
          "metadata": {},
          "execution_count": 29
        }
      ],
      "source": [
        "df_train[0]"
      ]
    },
    {
      "cell_type": "markdown",
      "id": "5c47dc83",
      "metadata": {
        "id": "5c47dc83"
      },
      "source": [
        "Utilizamos la técnica de codificación one-hot para usar las variables categóricas. \n",
        "\n",
        "Para implementarlo, usamos `DictVectorizer` de Scikit-learn. \n",
        "\n"
      ]
    },
    {
      "cell_type": "code",
      "execution_count": null,
      "id": "8406d5c8",
      "metadata": {
        "id": "8406d5c8"
      },
      "outputs": [],
      "source": [
        "from sklearn.feature_extraction import DictVectorizer"
      ]
    },
    {
      "cell_type": "code",
      "execution_count": null,
      "id": "446b21e7",
      "metadata": {
        "id": "446b21e7"
      },
      "outputs": [],
      "source": [
        "dv = DictVectorizer(sparse=False)\n",
        "\n",
        "X_train = dv.fit_transform(df_train)\n",
        "X_val = dv.transform(df_val)\n"
      ]
    },
    {
      "cell_type": "markdown",
      "id": "ba4f31b6",
      "metadata": {
        "id": "ba4f31b6"
      },
      "source": [
        "### Árboles de decisión\n",
        "\n",
        "Usaremos `DecisionTreeClassifier` y para evaluar la calidad de nuestros modelos, usaremos AUC. "
      ]
    },
    {
      "cell_type": "code",
      "execution_count": null,
      "id": "1cca7927",
      "metadata": {
        "id": "1cca7927"
      },
      "outputs": [],
      "source": [
        "from sklearn.tree import DecisionTreeClassifier\n",
        "from sklearn.metrics import roc_auc_score\n"
      ]
    },
    {
      "cell_type": "markdown",
      "id": "ad0d198e",
      "metadata": {
        "id": "ad0d198e"
      },
      "source": [
        "Ajustemos el árbol con parámetros predeterminados "
      ]
    },
    {
      "cell_type": "code",
      "execution_count": null,
      "id": "7abc4075",
      "metadata": {
        "colab": {
          "base_uri": "https://localhost:8080/"
        },
        "id": "7abc4075",
        "outputId": "db740d84-c411-4ea8-fe4b-1166eaf07152"
      },
      "outputs": [
        {
          "output_type": "execute_result",
          "data": {
            "text/plain": [
              "DecisionTreeClassifier()"
            ]
          },
          "metadata": {},
          "execution_count": 33
        }
      ],
      "source": [
        "dt = DecisionTreeClassifier()\n",
        "dt.fit(X_train, y_train)"
      ]
    },
    {
      "cell_type": "markdown",
      "id": "7cd7bbd7",
      "metadata": {
        "id": "7cd7bbd7"
      },
      "source": [
        "Primero, evaluamos el rendimiento en el conjunto de entrenamiento. Debido a que elegimos AUC como la métrica de evaluación, necesitamos puntajes, no predicciones...usamos `predict_proba`."
      ]
    },
    {
      "cell_type": "code",
      "execution_count": null,
      "id": "878e7bf2",
      "metadata": {
        "colab": {
          "base_uri": "https://localhost:8080/"
        },
        "id": "878e7bf2",
        "outputId": "635060f6-fcbe-4a43-b130-ec9ae4092334"
      },
      "outputs": [
        {
          "output_type": "execute_result",
          "data": {
            "text/plain": [
              "1.0"
            ]
          },
          "metadata": {},
          "execution_count": 34
        }
      ],
      "source": [
        "y_pred = dt.predict_proba(X_train)[:, 1]\n",
        "roc_auc_score(y_train, y_pred)"
      ]
    },
    {
      "cell_type": "markdown",
      "id": "aae28c85",
      "metadata": {
        "id": "aae28c85"
      },
      "source": [
        "Y sobre el conjunto de validación."
      ]
    },
    {
      "cell_type": "code",
      "execution_count": null,
      "id": "5b3f47bb",
      "metadata": {
        "colab": {
          "base_uri": "https://localhost:8080/"
        },
        "id": "5b3f47bb",
        "outputId": "cc68baaa-956a-4582-a8d7-67d00f424cf5"
      },
      "outputs": [
        {
          "output_type": "execute_result",
          "data": {
            "text/plain": [
              "0.6445381560146278"
            ]
          },
          "metadata": {},
          "execution_count": 35
        }
      ],
      "source": [
        "y_pred = dt.predict_proba(X_val)[:, 1]\n",
        "roc_auc_score(y_val, y_pred)"
      ]
    },
    {
      "cell_type": "markdown",
      "id": "968e0db4",
      "metadata": {
        "id": "968e0db4"
      },
      "source": [
        "Ese es un caso de sobreajuste: el modelo en los datos de entrenamiento funciona perfectamente, pero falla en la validación.\n",
        "\n",
        "Cambiamos el parámetro de profundidad: limitamos el tamaño del árbol a 2 niveles y comprobemos la puntuación: \n",
        "\n"
      ]
    },
    {
      "cell_type": "code",
      "execution_count": null,
      "id": "80a5200f",
      "metadata": {
        "colab": {
          "base_uri": "https://localhost:8080/"
        },
        "id": "80a5200f",
        "outputId": "bead3493-0fcd-49c8-f7d6-c9fcf2b2b15c"
      },
      "outputs": [
        {
          "output_type": "stream",
          "name": "stdout",
          "text": [
            "auc de entrenamiento: 0.705\n",
            "auc de validacion: 0.669\n"
          ]
        }
      ],
      "source": [
        "dt = DecisionTreeClassifier(max_depth=2)\n",
        "dt.fit(X_train, y_train)\n",
        "\n",
        "y_pred = dt.predict_proba(X_train)[:, 1]\n",
        "auc = roc_auc_score(y_train, y_pred)\n",
        "print('auc de entrenamiento: %.3f' % auc)\n",
        "\n",
        "y_pred = dt.predict_proba(X_val)[:, 1]\n",
        "auc = roc_auc_score(y_val, y_pred)\n",
        "print('auc de validacion: %.3f' % auc)"
      ]
    },
    {
      "cell_type": "markdown",
      "id": "174ad012",
      "metadata": {
        "id": "174ad012"
      },
      "source": [
        "Para visualizar el árbol que acabamos de aprender, podemos usar la función `export_text` del paquete `true`: \n"
      ]
    },
    {
      "cell_type": "code",
      "execution_count": null,
      "id": "25727ef3",
      "metadata": {
        "colab": {
          "base_uri": "https://localhost:8080/"
        },
        "id": "25727ef3",
        "outputId": "7d1822c6-b8b9-4678-ee64-3c532643b131"
      },
      "outputs": [
        {
          "output_type": "stream",
          "name": "stdout",
          "text": [
            "|--- records=yes <= 0.50\n",
            "|   |--- job=partime <= 0.50\n",
            "|   |   |--- class: False\n",
            "|   |--- job=partime >  0.50\n",
            "|   |   |--- class: True\n",
            "|--- records=yes >  0.50\n",
            "|   |--- seniority <= 6.50\n",
            "|   |   |--- class: True\n",
            "|   |--- seniority >  6.50\n",
            "|   |   |--- class: False\n",
            "\n"
          ]
        }
      ],
      "source": [
        "from sklearn.tree import export_text\n",
        "arbol_texto = export_text(dt, feature_names=dv.feature_names_)\n",
        "print(arbol_texto)"
      ]
    },
    {
      "cell_type": "markdown",
      "id": "d728db75",
      "metadata": {
        "id": "d728db75"
      },
      "source": [
        "#### Ajuste de paramétros\n",
        "\n",
        "El proceso de encontrar el mejor conjunto de parámetros se denomina ajuste de parámetros.\n",
        "En este cuaderno podemos ajustar dos parámetros: \n",
        "\n",
        "* `max_depth`\n",
        "\n",
        "* `min_samples_leaf` \n"
      ]
    },
    {
      "cell_type": "code",
      "execution_count": null,
      "id": "185ad806",
      "metadata": {
        "colab": {
          "base_uri": "https://localhost:8080/"
        },
        "id": "185ad806",
        "outputId": "6e6fc8d0-db93-4fb3-d043-07c4a507ee59"
      },
      "outputs": [
        {
          "output_type": "execute_result",
          "data": {
            "text/plain": [
              "DecisionTreeClassifier(max_depth=6)"
            ]
          },
          "metadata": {},
          "execution_count": 40
        }
      ],
      "source": [
        "dt = DecisionTreeClassifier(max_depth=6)\n",
        "dt.fit(X_train, y_train)"
      ]
    },
    {
      "cell_type": "code",
      "execution_count": null,
      "id": "498948a1",
      "metadata": {
        "id": "498948a1"
      },
      "outputs": [],
      "source": [
        "y_pred = dt.predict_proba(X_val)[:, 1]"
      ]
    },
    {
      "cell_type": "code",
      "execution_count": null,
      "id": "4300723a",
      "metadata": {
        "colab": {
          "base_uri": "https://localhost:8080/"
        },
        "id": "4300723a",
        "outputId": "ae8a8019-5962-48bd-cc00-9742044187ce"
      },
      "outputs": [
        {
          "output_type": "execute_result",
          "data": {
            "text/plain": [
              "0.7487012908381971"
            ]
          },
          "metadata": {},
          "execution_count": 42
        }
      ],
      "source": [
        "roc_auc_score(y_val, y_pred)"
      ]
    },
    {
      "cell_type": "markdown",
      "id": "36d0a048",
      "metadata": {
        "id": "36d0a048"
      },
      "source": [
        "Comenzamos ajustando `max_ depth`."
      ]
    },
    {
      "cell_type": "code",
      "execution_count": null,
      "id": "9320642e",
      "metadata": {
        "colab": {
          "base_uri": "https://localhost:8080/"
        },
        "id": "9320642e",
        "outputId": "ca897607-2699-4d3d-8e14-523cb19ae890"
      },
      "outputs": [
        {
          "output_type": "stream",
          "name": "stdout",
          "text": [
            "   1 -> 0.606\n",
            "   2 -> 0.669\n",
            "   3 -> 0.739\n",
            "   4 -> 0.761\n",
            "   5 -> 0.767\n",
            "   6 -> 0.761\n",
            "  10 -> 0.695\n",
            "  15 -> 0.664\n",
            "  20 -> 0.656\n",
            "None -> 0.664\n"
          ]
        }
      ],
      "source": [
        "for profundidad in [1, 2, 3, 4, 5, 6, 10, 15, 20, None]:\n",
        "    dt = DecisionTreeClassifier(max_depth=profundidad)\n",
        "    dt.fit(X_train, y_train)\n",
        "    y_pred = dt.predict_proba(X_val)[:, 1]\n",
        "    auc = roc_auc_score(y_val, y_pred)\n",
        "    print('%4s -> %.3f' % (profundidad, auc))"
      ]
    },
    {
      "cell_type": "markdown",
      "id": "2a5a7586",
      "metadata": {
        "id": "2a5a7586"
      },
      "source": [
        "A continuación, ajustamos `min_samples_leaf`. Para eso, iteramos sobre los tres mejores parámetros de `max_depth`, y para cada uno, revisamos diferentes valores de `min_samples_leaf`: \n"
      ]
    },
    {
      "cell_type": "code",
      "execution_count": null,
      "id": "ca7f8947",
      "metadata": {
        "colab": {
          "base_uri": "https://localhost:8080/"
        },
        "id": "ca7f8947",
        "outputId": "8bd68790-2a5b-46f6-c128-18428a470098"
      },
      "outputs": [
        {
          "output_type": "stream",
          "name": "stdout",
          "text": [
            "1 -> 0.761\n",
            "5 -> 0.761\n",
            "10 -> 0.761\n",
            "15 -> 0.764\n",
            "20 -> 0.761\n",
            "50 -> 0.753\n",
            "100 -> 0.756\n",
            "200 -> 0.747\n"
          ]
        }
      ],
      "source": [
        "for m in [1, 5, 10, 15, 20, 50, 100, 200]:\n",
        "    dt = DecisionTreeClassifier(max_depth=4, min_samples_leaf=m)\n",
        "    dt.fit(X_train, y_train)\n",
        "    y_pred = dt.predict_proba(X_val)[:, 1]\n",
        "    auc = roc_auc_score(y_val, y_pred)\n",
        "    print('%s -> %.3f' % (m, auc))"
      ]
    },
    {
      "cell_type": "code",
      "execution_count": null,
      "id": "84d157ae",
      "metadata": {
        "colab": {
          "base_uri": "https://localhost:8080/"
        },
        "id": "84d157ae",
        "outputId": "6be31922-b297-4e9d-de83-e56c1dbcde77"
      },
      "outputs": [
        {
          "output_type": "stream",
          "name": "stdout",
          "text": [
            "profundidad: 4\n",
            "1 -> 0.761\n",
            "5 -> 0.761\n",
            "10 -> 0.761\n",
            "15 -> 0.764\n",
            "20 -> 0.761\n",
            "50 -> 0.753\n",
            "100 -> 0.756\n",
            "200 -> 0.747\n",
            "\n",
            "profundidad: 5\n",
            "1 -> 0.766\n",
            "5 -> 0.768\n",
            "10 -> 0.762\n",
            "15 -> 0.772\n",
            "20 -> 0.774\n",
            "50 -> 0.768\n",
            "100 -> 0.763\n",
            "200 -> 0.759\n",
            "\n",
            "profundidad: 6\n",
            "1 -> 0.762\n",
            "5 -> 0.760\n",
            "10 -> 0.778\n",
            "15 -> 0.785\n",
            "20 -> 0.774\n",
            "50 -> 0.772\n",
            "100 -> 0.776\n",
            "200 -> 0.768\n",
            "\n"
          ]
        }
      ],
      "source": [
        "for m in [4, 5, 6]:\n",
        "    print('profundidad: %s' % m)\n",
        "\n",
        "    for s in [1, 5, 10, 15, 20, 50, 100, 200]:\n",
        "        dt = DecisionTreeClassifier(max_depth=m, min_samples_leaf=s)\n",
        "        dt.fit(X_train, y_train)\n",
        "        y_pred = dt.predict_proba(X_val)[:, 1]\n",
        "        auc = roc_auc_score(y_val, y_pred)\n",
        "        print('%s -> %.3f' % (s, auc))\n",
        "    \n",
        "    print()"
      ]
    },
    {
      "cell_type": "code",
      "execution_count": null,
      "id": "d188008e",
      "metadata": {
        "colab": {
          "base_uri": "https://localhost:8080/"
        },
        "id": "d188008e",
        "outputId": "5c74079f-1e40-4605-cbb8-9609b6748362"
      },
      "outputs": [
        {
          "output_type": "stream",
          "name": "stdout",
          "text": [
            "1 -> 0.754\n",
            "5 -> 0.763\n",
            "10 -> 0.778\n",
            "15 -> 0.785\n",
            "20 -> 0.774\n",
            "50 -> 0.770\n",
            "100 -> 0.776\n",
            "200 -> 0.768\n"
          ]
        }
      ],
      "source": [
        "for m in [1, 5, 10, 15, 20, 50, 100, 200]:\n",
        "    dt = DecisionTreeClassifier(max_depth=6, min_samples_leaf=m)\n",
        "    dt.fit(X_train, y_train)\n",
        "    y_pred = dt.predict_proba(X_val)[:, 1]\n",
        "    auc = roc_auc_score(y_val, y_pred)\n",
        "    print('%s -> %.3f' % (m, auc))"
      ]
    },
    {
      "cell_type": "markdown",
      "id": "d139d4ef",
      "metadata": {
        "id": "d139d4ef"
      },
      "source": [
        "Hemos encontrado los mejores parámetros, así que usemoslos para entrenar el modelo final: \n"
      ]
    },
    {
      "cell_type": "code",
      "execution_count": null,
      "id": "427847e0",
      "metadata": {
        "colab": {
          "base_uri": "https://localhost:8080/"
        },
        "id": "427847e0",
        "outputId": "fcc8764f-3059-4132-e20f-ec5052c21fd0"
      },
      "outputs": [
        {
          "output_type": "execute_result",
          "data": {
            "text/plain": [
              "0.7854738320699426"
            ]
          },
          "metadata": {},
          "execution_count": 47
        }
      ],
      "source": [
        "dt = DecisionTreeClassifier(max_depth=6, min_samples_leaf=15)\n",
        "dt.fit(X_train, y_train)\n",
        "\n",
        "y_pred_dt = dt.predict_proba(X_val)[:, 1]\n",
        "roc_auc_score(y_val, y_pred_dt)"
      ]
    },
    {
      "cell_type": "markdown",
      "id": "5a8a72f9",
      "metadata": {
        "id": "5a8a72f9"
      },
      "source": [
        "**Ejercicio** Grafica la curva ROC y analiza los resultados."
      ]
    },
    {
      "cell_type": "code",
      "execution_count": null,
      "id": "40f274d5",
      "metadata": {
        "colab": {
          "base_uri": "https://localhost:8080/",
          "height": 350
        },
        "id": "40f274d5",
        "outputId": "a0426973-9a59-476e-bd21-e86972d47b5a"
      },
      "outputs": [
        {
          "output_type": "display_data",
          "data": {
            "text/plain": [
              "<Figure size 360x360 with 1 Axes>"
            ],
            "image/png": "[encoded data removed]"
          },
          "metadata": {
            "needs_background": "light"
          }
        }
      ],
      "source": [
        "from sklearn.metrics import roc_curve\n",
        "\n",
        "fpr, tpr, _ = roc_curve(y_val, y_pred_dt)\n",
        "plt.figure(figsize=(5,5))\n",
        "\n",
        "plt.plot(fpr, tpr, color ='orange')\n",
        "plt.plot([0,1], [0, 1], color = 'black', lw =0.7, linestyle='dashed', alpha = 0.5)\n",
        "\n",
        "plt.xlim([-0.02, 1.02])\n",
        "plt.ylim([-0.02, 1.02])\n",
        "plt.xlabel('Tasa de falsos positivos')\n",
        "plt.ylabel('Tasa de positivos verdaderos')\n",
        "\n",
        "plt.title('Curva ROC')\n",
        "\n",
        "plt.show()"
      ]
    },
    {
      "cell_type": "markdown",
      "id": "f922535d",
      "metadata": {
        "id": "f922535d"
      },
      "source": [
        "#### Bosque aleatorio\n",
        "\n",
        "Entrenamiento de un modelo de bosque aleatorio: para entrenar cada árbol, se selecciona aleatoriamente un subconjunto de características. Al hacer la predicción final, combina todas las predicciones en una sola. \n"
      ]
    },
    {
      "cell_type": "code",
      "execution_count": null,
      "id": "ff6162fa",
      "metadata": {
        "id": "ff6162fa"
      },
      "outputs": [],
      "source": [
        "from sklearn.ensemble import RandomForestClassifier"
      ]
    },
    {
      "cell_type": "code",
      "execution_count": null,
      "id": "3f9a1866",
      "metadata": {
        "colab": {
          "base_uri": "https://localhost:8080/"
        },
        "id": "3f9a1866",
        "outputId": "f76b841d-2d2f-49ca-b330-a83e41057b52"
      },
      "outputs": [
        {
          "output_type": "execute_result",
          "data": {
            "text/plain": [
              "RandomForestClassifier(n_estimators=10)"
            ]
          },
          "metadata": {},
          "execution_count": 50
        }
      ],
      "source": [
        "rf = RandomForestClassifier(n_estimators=10)\n",
        "rf.fit(X_train, y_train)"
      ]
    },
    {
      "cell_type": "code",
      "execution_count": null,
      "id": "d8f5efed",
      "metadata": {
        "colab": {
          "base_uri": "https://localhost:8080/"
        },
        "id": "d8f5efed",
        "outputId": "6be18e3b-a5ac-48ad-ec38-7787303ddc82"
      },
      "outputs": [
        {
          "output_type": "execute_result",
          "data": {
            "text/plain": [
              "0.7831882250369329"
            ]
          },
          "metadata": {},
          "execution_count": 51
        }
      ],
      "source": [
        "y_pred = rf.predict_proba(X_val)[:, 1]\n",
        "roc_auc_score(y_val, y_pred)"
      ]
    },
    {
      "cell_type": "markdown",
      "id": "10f2ee79",
      "metadata": {
        "id": "10f2ee79"
      },
      "source": [
        "Si lo repetimos una vez más, cambia:"
      ]
    },
    {
      "cell_type": "code",
      "execution_count": null,
      "id": "df7d838f",
      "metadata": {
        "colab": {
          "base_uri": "https://localhost:8080/"
        },
        "id": "df7d838f",
        "outputId": "dab55488-19aa-47b7-b6f8-206ce603285d"
      },
      "outputs": [
        {
          "output_type": "execute_result",
          "data": {
            "text/plain": [
              "0.7823981012811508"
            ]
          },
          "metadata": {},
          "execution_count": 52
        }
      ],
      "source": [
        "rf = RandomForestClassifier(n_estimators=10)\n",
        "rf.fit(X_train, y_train)\n",
        "y_pred = rf.predict_proba(X_val)[:, 1]\n",
        "roc_auc_score(y_val, y_pred)"
      ]
    },
    {
      "cell_type": "markdown",
      "id": "6a7b7773",
      "metadata": {
        "id": "6a7b7773"
      },
      "source": [
        "Para entender cuánto cambia, podemos repetirlo 100 veces y mirar la media y la desviación estándar. "
      ]
    },
    {
      "cell_type": "code",
      "execution_count": null,
      "id": "55c6b04c",
      "metadata": {
        "colab": {
          "base_uri": "https://localhost:8080/"
        },
        "id": "55c6b04c",
        "outputId": "799d93d3-c246-4e0d-b4f0-51d4af69bded"
      },
      "outputs": [
        {
          "output_type": "stream",
          "name": "stdout",
          "text": [
            "0.785 +- 0.009\n",
            "0.775 -- 0.794\n"
          ]
        }
      ],
      "source": [
        "aucs = []\n",
        "for i in range(100):\n",
        "    rf = RandomForestClassifier(n_estimators=10)\n",
        "    rf.fit(X_train, y_train)\n",
        "    y_pred = rf.predict_proba(X_val)[:, 1]\n",
        "    auc = roc_auc_score(y_val, y_pred)\n",
        "    aucs.append(auc)\n",
        "\n",
        "media_auc = np.mean(aucs)\n",
        "std_auc = np.std(aucs)\n",
        "\n",
        "print('%.3f +- %.3f' % (media_auc,std_auc))\n",
        "print('%.3f -- %.3f' % (media_auc - std_auc, media_auc + std_auc))"
      ]
    },
    {
      "cell_type": "markdown",
      "id": "390dde03",
      "metadata": {
        "id": "390dde03"
      },
      "source": [
        "Para solucionar este problema, configuremos la semilla  para el generador de números aleatorios asignando algún valor al parámetro `random_state`:\n"
      ]
    },
    {
      "cell_type": "code",
      "execution_count": null,
      "id": "f41b5029",
      "metadata": {
        "colab": {
          "base_uri": "https://localhost:8080/"
        },
        "id": "f41b5029",
        "outputId": "cadd1294-66e7-4357-c56a-2cbb9d3066db"
      },
      "outputs": [
        {
          "output_type": "execute_result",
          "data": {
            "text/plain": [
              "0.7811145285897654"
            ]
          },
          "metadata": {},
          "execution_count": 54
        }
      ],
      "source": [
        "rf = RandomForestClassifier(n_estimators=10, random_state=3)\n",
        "rf.fit(X_train, y_train)\n",
        "y_pred = rf.predict_proba(X_val)[:, 1]\n",
        "roc_auc_score(y_val, y_pred)\n"
      ]
    },
    {
      "cell_type": "markdown",
      "id": "3f2289ae",
      "metadata": {
        "id": "3f2289ae"
      },
      "source": [
        "Ahora comprobaremos cómo depende el AUC del número de árboles.\n",
        "\n",
        "Para ver cuántos árboles necesitamos, podemos iterar sobre diferentes valores de `n_estimators`  y ver su efecto en el AUC:\n"
      ]
    },
    {
      "cell_type": "code",
      "execution_count": null,
      "id": "875f2d30",
      "metadata": {
        "colab": {
          "base_uri": "https://localhost:8080/"
        },
        "id": "875f2d30",
        "outputId": "28be81c0-5e26-4fe8-db58-eaf4b6d395ed"
      },
      "outputs": [
        {
          "output_type": "stream",
          "name": "stdout",
          "text": [
            "10 -> 0.781\n",
            "20 -> 0.801\n",
            "30 -> 0.813\n",
            "40 -> 0.815\n",
            "50 -> 0.816\n",
            "60 -> 0.817\n",
            "70 -> 0.818\n",
            "80 -> 0.818\n",
            "90 -> 0.820\n",
            "100 -> 0.819\n",
            "110 -> 0.819\n",
            "120 -> 0.821\n",
            "130 -> 0.822\n",
            "140 -> 0.822\n",
            "150 -> 0.820\n",
            "160 -> 0.820\n",
            "170 -> 0.819\n",
            "180 -> 0.820\n",
            "190 -> 0.820\n",
            "200 -> 0.820\n"
          ]
        }
      ],
      "source": [
        "aucs = []\n",
        "\n",
        "for i in range(10, 201, 10):\n",
        "    rf = RandomForestClassifier(n_estimators=i, random_state=3)\n",
        "    rf.fit(X_train, y_train)\n",
        "    y_pred = rf.predict_proba(X_val)[:, 1]\n",
        "    auc = roc_auc_score(y_val, y_pred)\n",
        "    print('%s -> %.3f' % (i, auc))\n",
        "    aucs.append(auc)"
      ]
    },
    {
      "cell_type": "code",
      "execution_count": null,
      "id": "52b81e41",
      "metadata": {
        "colab": {
          "base_uri": "https://localhost:8080/",
          "height": 295
        },
        "id": "52b81e41",
        "outputId": "b28e0d97-8a5d-455b-d675-da5ae85f5fb2"
      },
      "outputs": [
        {
          "output_type": "display_data",
          "data": {
            "text/plain": [
              "<Figure size 432x288 with 1 Axes>"
            ],
            "image/png": "[encoded data removed]"
          },
          "metadata": {
            "needs_background": "light"
          }
        }
      ],
      "source": [
        "plt.figure(figsize=(6, 4))\n",
        "\n",
        "plt.plot(range(10, 201, 10), aucs, color='black')\n",
        "plt.xticks(range(0, 201, 50))\n",
        "\n",
        "plt.title('Numero de arboles vs AUC')\n",
        "plt.xlabel('Numero de arboles')\n",
        "plt.ylabel('AUC')\n",
        "\n",
        "plt.show()"
      ]
    },
    {
      "cell_type": "markdown",
      "id": "598d49fe",
      "metadata": {
        "id": "598d49fe"
      },
      "source": [
        "#### Ajuste de parámetros para el bosque aleatorio \n",
        "\n",
        "Un conjunto de bosque aleatorio consta de múltiples árboles de decisión, por lo que los parámetros más importantes que debemos ajustar para el bosque aleatorio son los mismos:\n",
        "\n",
        "* `max_depth` \n",
        "* `min_samples_leaf` \n",
        "\n",
        "Para `max_depth`:"
      ]
    },
    {
      "cell_type": "code",
      "execution_count": null,
      "id": "7881838f",
      "metadata": {
        "id": "7881838f"
      },
      "outputs": [],
      "source": [
        "todos_aucs = {}\n",
        "\n",
        "for profundidad in [5, 10, 20]:\n",
        "    print('profundidad: %s' % profundidad)\n",
        "    aucs = []\n",
        "\n",
        "    for i in range(10, 201, 10):\n",
        "        rf = RandomForestClassifier(n_estimators=i, max_depth=profundidad, random_state=1)\n",
        "        rf.fit(X_train, y_train)\n",
        "        y_pred = rf.predict_proba(X_val)[:, 1]\n",
        "        auc = roc_auc_score(y_val, y_pred)\n",
        "        print('%s -> %.3f' % (i, auc))\n",
        "        aucs.append(auc)\n",
        "    \n",
        "    todos_aucs[profundidad] = aucs\n",
        "    print()"
      ]
    },
    {
      "cell_type": "markdown",
      "id": "83baa541",
      "metadata": {
        "id": "83baa541"
      },
      "source": [
        "Ahora, para cada valor de `max_depth`, tenemos una serie de puntuaciones AUC. \n",
        "\n",
        "Podemos graficarlos ahora: \n"
      ]
    },
    {
      "cell_type": "code",
      "execution_count": null,
      "id": "aba8324c",
      "metadata": {
        "id": "aba8324c"
      },
      "outputs": [],
      "source": [
        "plt.figure(figsize=(6, 4))\n",
        "\n",
        "num_arboles = list(range(10, 201, 10))\n",
        "\n",
        "plt.plot(num_arboles, todos_aucs[5], label='profundidad=5', color='black', linestyle='dotted')\n",
        "plt.plot(num_arboles, todos_aucs[10], label='profundidad=10', color='black', linestyle='dashed')\n",
        "plt.plot(num_arboles, todos_aucs[20], label='profundidad=20', color='black', linestyle='solid')\n",
        "    \n",
        "plt.xticks(range(0, 201, 50))\n",
        "plt.legend()\n",
        "\n",
        "plt.title('Numero de arboles vs AUC')\n",
        "plt.xlabel('Numero de arboles')\n",
        "plt.ylabel('AUC')\n",
        "\n",
        "plt.show()"
      ]
    },
    {
      "cell_type": "markdown",
      "id": "d290bd68",
      "metadata": {
        "id": "d290bd68"
      },
      "source": [
        "Ahora ajustemos `min_samples_leaf`:"
      ]
    },
    {
      "cell_type": "code",
      "execution_count": null,
      "id": "38740ea4",
      "metadata": {
        "id": "38740ea4"
      },
      "outputs": [],
      "source": [
        "todos_aucs = {}\n",
        "\n",
        "for m in [3, 5, 10]:\n",
        "    print('min_samples_leaf: %s' % m)\n",
        "    aucs = []\n",
        "\n",
        "    for i in range(10, 201, 20):\n",
        "        rf = RandomForestClassifier(n_estimators=i, max_depth=10, min_samples_leaf=m, random_state=1)\n",
        "        rf.fit(X_train, y_train)\n",
        "        y_pred = rf.predict_proba(X_val)[:, 1]\n",
        "        auc = roc_auc_score(y_val, y_pred)\n",
        "        print('%s -> %.3f' % (i, auc))\n",
        "        aucs.append(auc)\n",
        "    \n",
        "    todos_aucs[m] = aucs\n",
        "    print()"
      ]
    },
    {
      "cell_type": "code",
      "execution_count": null,
      "id": "992ea64a",
      "metadata": {
        "id": "992ea64a"
      },
      "outputs": [],
      "source": [
        "plt.figure(figsize=(6, 4))\n",
        "\n",
        "num_arboles = list(range(10, 201, 20))\n",
        "\n",
        "plt.plot(num_arboles, todos_aucs[3], label='min_samples_leaf=3', color='black', linestyle='dotted')\n",
        "plt.plot(num_arboles, todos_aucs[5], label='min_samples_leaf=5', color='black', linestyle='dashed')\n",
        "plt.plot(num_arboles, todos_aucs[10], label='min_samples_leaf=10', color='black', linestyle='solid')\n",
        "    \n",
        "plt.xticks(range(0, 201, 50))\n",
        "plt.legend()\n",
        "\n",
        "plt.title('Numero de arboles vs AUC')\n",
        "plt.xlabel('Numero de arboles')\n",
        "plt.ylabel('AUC')\n",
        "\n",
        "plt.show()"
      ]
    },
    {
      "cell_type": "markdown",
      "id": "8852ef8d",
      "metadata": {
        "id": "8852ef8d"
      },
      "source": [
        "Logramos el mejor AUC con `200` árboles, por lo que debemos establecer el parámetro `n_estimators` en `200`, `max_depth =10`, `min_samples_leaf=5`. \n",
        "\n",
        "Entrenemos el modelo final:\n"
      ]
    },
    {
      "cell_type": "code",
      "execution_count": null,
      "id": "4aa73c20",
      "metadata": {
        "id": "4aa73c20"
      },
      "outputs": [],
      "source": [
        "rf = RandomForestClassifier(n_estimators=200, max_depth=10, min_samples_leaf=5, random_state=1)\n",
        "rf.fit(X_train, y_train)"
      ]
    },
    {
      "cell_type": "code",
      "execution_count": null,
      "id": "ffa9039e",
      "metadata": {
        "id": "ffa9039e"
      },
      "outputs": [],
      "source": [
        "y_pred_rf = rf.predict_proba(X_val)[:, 1]\n",
        "roc_auc_score(y_val, y_pred_rf)"
      ]
    },
    {
      "cell_type": "markdown",
      "id": "2f6db14f",
      "metadata": {
        "id": "2f6db14f"
      },
      "source": [
        "**Ejercicio** Grafica la curva ROC y analiza los resultados."
      ]
    },
    {
      "cell_type": "code",
      "execution_count": null,
      "id": "c784c3ff",
      "metadata": {
        "id": "c784c3ff"
      },
      "outputs": [],
      "source": [
        "### Tu respuesta"
      ]
    },
    {
      "cell_type": "markdown",
      "id": "b871b668",
      "metadata": {
        "id": "b871b668"
      },
      "source": [
        "###  Gradient boosting\n",
        "\n",
        "Alternativamente, podemos entrenar modelos secuencialmente: cada modelo siguiente intenta corregir los errores del anterior."
      ]
    },
    {
      "cell_type": "markdown",
      "id": "c40e4a65",
      "metadata": {
        "id": "c40e4a65"
      },
      "source": [
        "#### XGBoost: Extreme gradient boosting\n"
      ]
    },
    {
      "cell_type": "code",
      "execution_count": null,
      "id": "b07f7e01",
      "metadata": {
        "id": "b07f7e01"
      },
      "outputs": [],
      "source": [
        "import xgboost as xgb"
      ]
    },
    {
      "cell_type": "code",
      "execution_count": null,
      "id": "a1b57dac",
      "metadata": {
        "id": "a1b57dac"
      },
      "outputs": [],
      "source": [
        "dtrain = xgb.DMatrix(X_train, label=y_train, feature_names=dv.feature_names_)\n",
        "dval = xgb.DMatrix(X_val, label=y_val, feature_names=dv.feature_names_)"
      ]
    },
    {
      "cell_type": "markdown",
      "id": "b4079d71",
      "metadata": {
        "id": "b4079d71"
      },
      "source": [
        "El siguiente paso es especificar los parámetros para el entrenamiento."
      ]
    },
    {
      "cell_type": "code",
      "execution_count": null,
      "id": "46a187e4",
      "metadata": {
        "id": "46a187e4"
      },
      "outputs": [],
      "source": [
        "xgb_params = {\n",
        "    'eta': 0.3,\n",
        "    'max_depth': 6,\n",
        "    'min_child_weight': 1,\n",
        "\n",
        "    'objective': 'binary:logistic',\n",
        "    'nthread': 8,\n",
        "    'seed': 1\n",
        "}\n"
      ]
    },
    {
      "cell_type": "code",
      "execution_count": null,
      "id": "8f9f6481",
      "metadata": {
        "id": "8f9f6481"
      },
      "outputs": [],
      "source": [
        "modelo_xgb = xgb.train(xgb_params, dtrain, num_boost_round=10)"
      ]
    },
    {
      "cell_type": "code",
      "execution_count": null,
      "id": "609abe0e",
      "metadata": {
        "id": "609abe0e"
      },
      "outputs": [],
      "source": [
        "y_pred = modelo_xgb.predict(dval)\n",
        "y_pred[:10]"
      ]
    },
    {
      "cell_type": "code",
      "execution_count": null,
      "id": "4752ae87",
      "metadata": {
        "id": "4752ae87"
      },
      "outputs": [],
      "source": [
        "roc_auc_score(y_val, y_pred)"
      ]
    },
    {
      "cell_type": "markdown",
      "id": "b661f609",
      "metadata": {
        "id": "b661f609"
      },
      "source": [
        "#### Seguimiento del rendimiento del modelo \n",
        "\n",
        "Se utiliza un `watchlist`, una función integrada en XGBoost para monitorear el rendimiento del modelo."
      ]
    },
    {
      "cell_type": "code",
      "execution_count": null,
      "id": "4f0728cb",
      "metadata": {
        "id": "4f0728cb"
      },
      "outputs": [],
      "source": [
        "watchlist = [(dtrain, 'train'), (dval, 'val')]"
      ]
    },
    {
      "cell_type": "code",
      "execution_count": null,
      "id": "52f4d4e8",
      "metadata": {
        "id": "52f4d4e8"
      },
      "outputs": [],
      "source": [
        "xgb_params = {\n",
        "    'eta': 0.3,\n",
        "    'max_depth': 6,\n",
        "    'min_child_weight': 1,\n",
        "\n",
        "    'objective': 'binary:logistic',\n",
        "    'eval_metric': 'auc',\n",
        "    'nthread': 8,\n",
        "    'seed': 1\n",
        "}\n"
      ]
    },
    {
      "cell_type": "code",
      "execution_count": null,
      "id": "52e755d2",
      "metadata": {
        "id": "52e755d2"
      },
      "outputs": [],
      "source": [
        "modelo_xgb = xgb.train(xgb_params, dtrain,\n",
        "                  num_boost_round=100,\n",
        "                  evals=watchlist, verbose_eval=10)"
      ]
    },
    {
      "cell_type": "markdown",
      "id": "e587fc26",
      "metadata": {
        "id": "e587fc26"
      },
      "source": [
        "Capturamos esta salida y realizar los gráficos adecuados."
      ]
    },
    {
      "cell_type": "code",
      "execution_count": null,
      "id": "3ed79086",
      "metadata": {
        "id": "3ed79086"
      },
      "outputs": [],
      "source": [
        "%%capture salida\n",
        "\n",
        "modelo_xgb = xgb.train(xgb_params, dtrain,\n",
        "                  num_boost_round=100,\n",
        "                  evals=watchlist, verbose_eval=5)"
      ]
    },
    {
      "cell_type": "code",
      "execution_count": null,
      "id": "e4994e71",
      "metadata": {
        "id": "e4994e71"
      },
      "outputs": [],
      "source": [
        "def analisis_salida_xgb(salida):\n",
        "    arbol = []\n",
        "    aucs_train = []\n",
        "    aucs_val = []\n",
        "\n",
        "    for linea in salida.stdout.strip().split('\\n'):\n",
        "        esta_linea, linea_train, linea_val = linea.split('\\t')\n",
        "\n",
        "        it = int(esta_linea.strip('[]'))\n",
        "        train = float(linea_train.split(':')[1])\n",
        "        val = float(linea_val.split(':')[1])\n",
        "\n",
        "        arbol.append(it)\n",
        "        aucs_train.append(train)\n",
        "        aucs_val.append(val)\n",
        "\n",
        "    return arbol, aucs_train, aucs_val"
      ]
    },
    {
      "cell_type": "code",
      "execution_count": null,
      "id": "6d8ed3c0",
      "metadata": {
        "id": "6d8ed3c0"
      },
      "outputs": [],
      "source": [
        "arbol, aucs_train, aucs_val = analisis_salida_xgb(salida)"
      ]
    },
    {
      "cell_type": "code",
      "execution_count": null,
      "id": "d0014b19",
      "metadata": {
        "id": "d0014b19"
      },
      "outputs": [],
      "source": [
        "plt.figure(figsize=(6, 4))\n",
        "\n",
        "plt.plot(arbol, aucs_train, color='black', linestyle='dashed', label='AUC entrenamiento')\n",
        "plt.plot(arbol, aucs_val, color='black', linestyle='solid', label='AUC validacion')\n",
        "plt.xticks(range(0, 101, 25))\n",
        "\n",
        "plt.legend()\n",
        "\n",
        "plt.title('XGBoost: numero de arboles vs AUC')\n",
        "plt.xlabel('Numero de arboles')\n",
        "plt.ylabel('AUC')\n",
        "\n",
        "plt.show()"
      ]
    },
    {
      "cell_type": "markdown",
      "id": "d84cc7a0",
      "metadata": {
        "id": "d84cc7a0"
      },
      "source": [
        "#### Ajuste de parámetros para XGBoost\n",
        "\n",
        "**Para el parámetro eta**\n"
      ]
    },
    {
      "cell_type": "code",
      "execution_count": null,
      "id": "4fc2e6c2",
      "metadata": {
        "id": "4fc2e6c2"
      },
      "outputs": [],
      "source": [
        "%%capture salida\n",
        "\n",
        "xgb_params = {\n",
        "    'eta': 0.3,\n",
        "    'max_depth': 6,\n",
        "    'min_child_weight': 1,\n",
        "\n",
        "    'objective': 'binary:logistic',\n",
        "    'eval_metric': 'auc',\n",
        "    'nthread': 8,\n",
        "    'seed': 1,\n",
        "}\n",
        "\n",
        "modelo_xgb = xgb.train(xgb_params, dtrain,\n",
        "                  num_boost_round=500, verbose_eval=10,\n",
        "                  evals=watchlist)"
      ]
    },
    {
      "cell_type": "code",
      "execution_count": null,
      "id": "5e04d862",
      "metadata": {
        "id": "5e04d862"
      },
      "outputs": [],
      "source": [
        "arbol, _, aucs_val_eta_03 = analisis_salida_xgb(salida)\n",
        "print(max(aucs_val_eta_03))\n",
        "print(max(zip(aucs_val_eta_03, arbol)))"
      ]
    },
    {
      "cell_type": "code",
      "execution_count": null,
      "id": "7cc358f3",
      "metadata": {
        "id": "7cc358f3"
      },
      "outputs": [],
      "source": [
        "%%capture salida\n",
        "\n",
        "xgb_params = {\n",
        "    'eta': 0.1,\n",
        "    'max_depth': 6,\n",
        "    'min_child_weight': 1,\n",
        "\n",
        "    'objective': 'binary:logistic',\n",
        "    'eval_metric': 'auc',\n",
        "    'nthread': 8,\n",
        "    'seed': 1,\n",
        "}\n",
        "\n",
        "modelo_xgb = xgb.train(xgb_params, dtrain,\n",
        "                  num_boost_round=500, verbose_eval=10,\n",
        "                  evals=watchlist)"
      ]
    },
    {
      "cell_type": "code",
      "execution_count": null,
      "id": "b3e2506c",
      "metadata": {
        "id": "b3e2506c"
      },
      "outputs": [],
      "source": [
        "arbol, _, aucs_val_eta_01 = analisis_salida_xgb(salida)\n",
        "print(max(aucs_val_eta_01))\n",
        "print(max(zip(aucs_val_eta_01, arbol)))"
      ]
    },
    {
      "cell_type": "code",
      "execution_count": null,
      "id": "fcbf55e2",
      "metadata": {
        "id": "fcbf55e2"
      },
      "outputs": [],
      "source": [
        "%%capture salida\n",
        "\n",
        "xgb_params = {\n",
        "    'eta': 0.05,\n",
        "    'max_depth': 6,\n",
        "    'min_child_weight': 1,\n",
        "\n",
        "    'objective': 'binary:logistic',\n",
        "    'eval_metric': 'auc',\n",
        "    'nthread': 8,\n",
        "    'seed': 1,\n",
        "}\n",
        "\n",
        "modelo_xgb = xgb.train(xgb_params, dtrain,\n",
        "                  num_boost_round=500, verbose_eval=10,\n",
        "                  evals=watchlist)"
      ]
    },
    {
      "cell_type": "code",
      "execution_count": null,
      "id": "7a6149a1",
      "metadata": {
        "id": "7a6149a1"
      },
      "outputs": [],
      "source": [
        "arbol, _, aucs_val_eta_005 = analisis_salida_xgb(salida)\n",
        "print(max(aucs_val_eta_005))\n",
        "print(max(zip(aucs_val_eta_005, arbol)))"
      ]
    },
    {
      "cell_type": "code",
      "execution_count": null,
      "id": "b2281b7e",
      "metadata": {
        "id": "b2281b7e"
      },
      "outputs": [],
      "source": [
        "%%capture salida\n",
        "\n",
        "xgb_params = {\n",
        "    'eta': 0.01,\n",
        "    'max_depth': 6,\n",
        "    'min_child_weight': 1,\n",
        "\n",
        "    'objective': 'binary:logistic',\n",
        "    'eval_metric': 'auc',\n",
        "    'nthread': 8,\n",
        "    'seed': 1,\n",
        "}\n",
        "\n",
        "modelo_xgb = xgb.train(xgb_params, dtrain,\n",
        "                  num_boost_round=500, verbose_eval=10,\n",
        "                  evals=watchlist)"
      ]
    },
    {
      "cell_type": "code",
      "execution_count": null,
      "id": "e37ffb77",
      "metadata": {
        "id": "e37ffb77"
      },
      "outputs": [],
      "source": [
        "arbol, _, aucs_val_eta_001 = analisis_salida_xgb(salida)\n",
        "print(max(aucs_val_eta_001))\n",
        "print(max(zip(aucs_val_eta_001, arbol)))"
      ]
    },
    {
      "cell_type": "code",
      "execution_count": null,
      "id": "6f5e35c2",
      "metadata": {
        "id": "6f5e35c2"
      },
      "outputs": [],
      "source": [
        "plt.figure(figsize=(6, 4))\n",
        "\n",
        "plt.plot(arbol, aucs_val_eta_03, color='black', linestyle='solid', label='eta=0.3')\n",
        "plt.plot(arbol, aucs_val_eta_01, color='black', linestyle='dashed', label='eta=0.1')\n",
        "\n",
        "plt.xticks(range(0, 501, 100))\n",
        "\n",
        "plt.legend()\n",
        "\n",
        "plt.title('El efecto de eta en el rendimiento del modelo')\n",
        "plt.xlabel('Numero de arboles')\n",
        "plt.ylabel('AUC (validacion)')\n",
        "\n",
        "plt.show()"
      ]
    },
    {
      "cell_type": "code",
      "execution_count": null,
      "id": "ca067139",
      "metadata": {
        "id": "ca067139"
      },
      "outputs": [],
      "source": [
        "plt.figure(figsize=(6, 4))\n",
        "\n",
        "plt.plot(arbol, aucs_val_eta_01, color='grey', linestyle='dashed', label='eta=0.1')\n",
        "plt.plot(arbol, aucs_val_eta_005, color='black', linestyle='solid', label='eta=0.05')\n",
        "plt.plot(arbol, aucs_val_eta_001, color='black', linestyle='dashed', label='eta=0.01')\n",
        "\n",
        "plt.xticks(range(0, 501, 100))\n",
        "\n",
        "plt.legend()\n",
        "\n",
        "plt.title('El efecto de eta en el rendimiento del modelo')\n",
        "plt.xlabel('Numero de arboles')\n",
        "plt.ylabel('AUC (validacion)')\n",
        "\n",
        "plt.show()"
      ]
    },
    {
      "cell_type": "markdown",
      "id": "cfb7d180",
      "metadata": {
        "id": "cfb7d180"
      },
      "source": [
        "**Ejercicio** Ajuste de otros parámetros.\n",
        "\n",
        "Realiza el proceso anterior para los siguientes parámetros `max_depth` para los `valores = 3, 4, 6 10`.\n",
        "\n",
        "Presenta un gráfico sobre el efecto de `max_depth` para esos valores en el rendimiento del modelo. \n"
      ]
    },
    {
      "cell_type": "code",
      "execution_count": null,
      "id": "7e2cb952",
      "metadata": {
        "id": "7e2cb952"
      },
      "outputs": [],
      "source": [
        "## Tus respuestas"
      ]
    },
    {
      "cell_type": "markdown",
      "id": "d2c37d3e",
      "metadata": {
        "id": "d2c37d3e"
      },
      "source": [
        "**Ejercicio** \n",
        "\n",
        "Realiza el proceso anterior para los siguientes parámetros `min_child_weight.` para los `valores = 1, 10, 30`.\n",
        "\n",
        "Presenta un gráfico sobre el efecto de `min_child_weight` para esos valores en el rendimiento del modelo. "
      ]
    },
    {
      "cell_type": "code",
      "execution_count": null,
      "id": "e816c669",
      "metadata": {
        "id": "e816c669"
      },
      "outputs": [],
      "source": [
        "### Tus respuestas"
      ]
    },
    {
      "cell_type": "markdown",
      "id": "d10c89d8",
      "metadata": {
        "id": "d10c89d8"
      },
      "source": [
        "#### Número óptimo de árboles\n"
      ]
    },
    {
      "cell_type": "code",
      "execution_count": null,
      "id": "759153a8",
      "metadata": {
        "id": "759153a8"
      },
      "outputs": [],
      "source": [
        "%%capture salida\n",
        "\n",
        "xgb_params = {\n",
        "    'eta': 0.1,\n",
        "    'max_depth': 3,\n",
        "    'min_child_weight': 1,\n",
        "\n",
        "    'objective': 'binary:logistic',\n",
        "    'eval_metric': 'auc',\n",
        "    'nthread': 8,\n",
        "    'seed': 1,\n",
        "}\n",
        "\n",
        "modelo_xgb = xgb.train(xgb_params, dtrain,\n",
        "                  num_boost_round=500, verbose_eval=10,\n",
        "                  evals=watchlist)"
      ]
    },
    {
      "cell_type": "code",
      "execution_count": null,
      "id": "0492c479",
      "metadata": {
        "id": "0492c479"
      },
      "outputs": [],
      "source": [
        "print(salida)"
      ]
    },
    {
      "cell_type": "code",
      "execution_count": null,
      "id": "b26572f2",
      "metadata": {
        "id": "b26572f2"
      },
      "outputs": [],
      "source": [
        "arbol, _, aucs_val = analisis_salida_xgb(salida)\n",
        "print(max(aucs_val))"
      ]
    },
    {
      "cell_type": "code",
      "execution_count": null,
      "id": "ce8b483c",
      "metadata": {
        "id": "ce8b483c"
      },
      "outputs": [],
      "source": [
        "max(zip(aucs_val, arbol))"
      ]
    },
    {
      "cell_type": "code",
      "execution_count": null,
      "id": "f4394d71",
      "metadata": {
        "id": "f4394d71"
      },
      "outputs": [],
      "source": [
        "plt.figure(figsize=(6, 4))\n",
        "\n",
        "plt.plot(arbol, aucs_val, color='black', linestyle='solid')\n",
        "\n",
        "plt.ylim(0.80, 0.84)\n",
        "plt.xlim(0, 510)\n",
        "plt.xticks(range(0, 501, 100))\n",
        "plt.yticks(np.linspace(0.80, 0.84, 9))\n",
        "\n",
        "\n",
        "plt.vlines(180, 0, 1, color='grey', linestyle='dashed', linewidth=0.9)\n",
        "\n",
        "plt.title('Seleccionando el numero de arboles')\n",
        "plt.xlabel('Numero de arboles')\n",
        "plt.ylabel('AUC (validacion)')\n",
        "\n",
        "plt.show()"
      ]
    },
    {
      "cell_type": "markdown",
      "id": "8bccd25d",
      "metadata": {
        "id": "8bccd25d"
      },
      "source": [
        "### Prueba del modelo final\n",
        "\n",
        "**Modelo final**"
      ]
    },
    {
      "cell_type": "code",
      "execution_count": null,
      "id": "11e72455",
      "metadata": {
        "id": "11e72455"
      },
      "outputs": [],
      "source": [
        "xgb_params = {\n",
        "    'eta': 0.1,\n",
        "    'max_depth': 3,\n",
        "    'min_child_weight': 1,\n",
        "\n",
        "    'objective': 'binary:logistic',\n",
        "    'eval_metric': 'auc',\n",
        "    'nthread': 8,\n",
        "    'seed': 1,\n",
        "}\n",
        "\n",
        "modelo_xgb = xgb.train(xgb_params, dtrain,\n",
        "                  num_boost_round=180, verbose_eval=10,\n",
        "                  evals=watchlist)"
      ]
    },
    {
      "cell_type": "code",
      "execution_count": null,
      "id": "143d0f79",
      "metadata": {
        "id": "143d0f79"
      },
      "outputs": [],
      "source": [
        "y_pred_xgb = modelo_xgb.predict(dval)"
      ]
    },
    {
      "cell_type": "code",
      "execution_count": null,
      "id": "bd5cf2d2",
      "metadata": {
        "id": "bd5cf2d2"
      },
      "outputs": [],
      "source": [
        "roc_auc_score(y_val, y_pred_xgb)"
      ]
    },
    {
      "cell_type": "code",
      "execution_count": null,
      "id": "ff787eee",
      "metadata": {
        "id": "ff787eee"
      },
      "outputs": [],
      "source": [
        "print(roc_auc_score(y_val, y_pred_dt))\n",
        "print(roc_auc_score(y_val, y_pred_rf))\n",
        "print(roc_auc_score(y_val, y_pred_xgb))"
      ]
    },
    {
      "cell_type": "code",
      "execution_count": null,
      "id": "2fa120ac",
      "metadata": {
        "id": "2fa120ac"
      },
      "outputs": [],
      "source": [
        "from sklearn.metrics import roc_curve\n",
        "\n",
        "plt.figure(figsize=(5, 5))\n",
        "\n",
        "fpr, tpr, _ = roc_curve(y_val, y_pred_xgb)\n",
        "plt.plot(fpr, tpr, color='black')\n",
        "\n",
        "fpr, tpr, _ = roc_curve(y_val, y_pred_rf)\n",
        "plt.plot(fpr, tpr, color='grey', linestyle='dashed', alpha=0.9)\n",
        "\n",
        "fpr, tpr, _ = roc_curve(y_val, y_pred_dt)\n",
        "plt.plot(fpr, tpr, color='grey', linestyle='dashed', alpha=0.9)\n",
        "\n",
        "plt.plot([0, 1], [0, 1], color='black', lw=0.7, linestyle='dashed', alpha=0.5)\n",
        "\n",
        "plt.xlim([-0.02, 1.02])\n",
        "plt.ylim([-0.02, 1.02])\n",
        "plt.xlabel('Tasa de Falsos Positivos')\n",
        "plt.ylabel('Tasa de Verdaderos Positivos')\n",
        "\n",
        "plt.title('Curva ROC')\n",
        "\n",
        "plt.show()"
      ]
    },
    {
      "cell_type": "markdown",
      "id": "57e98550",
      "metadata": {
        "id": "57e98550"
      },
      "source": [
        "#### Prueba final"
      ]
    },
    {
      "cell_type": "code",
      "execution_count": null,
      "id": "289d3aa5",
      "metadata": {
        "id": "289d3aa5"
      },
      "outputs": [],
      "source": [
        "y_train_completo = (df_train_completo.status == 'default').values\n",
        "y_test = (df_test.status == 'default').values\n",
        "\n",
        "del df_train_completo['status']\n",
        "del df_test['status']"
      ]
    },
    {
      "cell_type": "code",
      "execution_count": null,
      "id": "134269c2",
      "metadata": {
        "id": "134269c2"
      },
      "outputs": [],
      "source": [
        "dict_train_completo = df_train_completo.fillna(0).to_dict(orient='records')\n",
        "dict_test = df_test.fillna(0).to_dict(orient='records')\n",
        "\n",
        "dv = DictVectorizer(sparse=False)\n",
        "X_train_completo = dv.fit_transform(dict_train_completo)\n",
        "X_test = dv.transform(dict_test)"
      ]
    },
    {
      "cell_type": "markdown",
      "id": "a614f273",
      "metadata": {
        "id": "a614f273"
      },
      "source": [
        "Para un bosque aleatorio."
      ]
    },
    {
      "cell_type": "code",
      "execution_count": null,
      "id": "090550d1",
      "metadata": {
        "id": "090550d1"
      },
      "outputs": [],
      "source": [
        "rf_final = RandomForestClassifier(n_estimators=200, max_depth=10, min_samples_leaf=5, random_state=1)\n",
        "rf_final.fit(X_train_completo, y_train_completo)\n",
        "\n",
        "y_pred_rf = rf.predict_proba(X_test)[:, 1]"
      ]
    },
    {
      "cell_type": "markdown",
      "id": "40589709",
      "metadata": {
        "id": "40589709"
      },
      "source": [
        "Entrenamos el modelo XGBoost usando estos datos y los parámetros óptimos que determinamos previamente: "
      ]
    },
    {
      "cell_type": "code",
      "execution_count": null,
      "id": "4b5e14d6",
      "metadata": {
        "id": "4b5e14d6"
      },
      "outputs": [],
      "source": [
        "dtrain_completo = xgb.DMatrix(X_train_completo, label=y_train_completo, feature_names=dv.feature_names_)\n",
        "dtest = xgb.DMatrix(X_test, label=y_test, feature_names=dv.feature_names_)\n",
        "\n",
        "xgb_params = {\n",
        "    'eta': 0.1,\n",
        "    'max_depth': 3,\n",
        "    'min_child_weight': 1,\n",
        "\n",
        "    'objective': 'binary:logistic',\n",
        "    'eval_metric': 'auc',\n",
        "    'nthread': 8,\n",
        "    'seed': 1,\n",
        "}\n",
        "\n",
        "num_arboles = 160\n",
        "\n",
        "xgb_final = xgb.train(xgb_params, dtrain_completo, num_boost_round=num_arboles)"
      ]
    },
    {
      "cell_type": "code",
      "execution_count": null,
      "id": "29f936c0",
      "metadata": {
        "id": "29f936c0"
      },
      "outputs": [],
      "source": [
        "y_pred_xgb = xgb_final.predict(dtest)"
      ]
    },
    {
      "cell_type": "code",
      "execution_count": null,
      "id": "d00d5e51",
      "metadata": {
        "id": "d00d5e51"
      },
      "outputs": [],
      "source": [
        "print(roc_auc_score(y_test, y_pred_rf))\n",
        "print(roc_auc_score(y_test, y_pred_xgb))"
      ]
    },
    {
      "cell_type": "markdown",
      "id": "5c1853a6",
      "metadata": {
        "id": "5c1853a6"
      },
      "source": [
        "**Ejercicios**"
      ]
    },
    {
      "cell_type": "markdown",
      "id": "61f3a24a",
      "metadata": {
        "id": "61f3a24a"
      },
      "source": [
        "La ingeniería de características es el proceso de crear nuevas características a partir de las existentes. Para este proyecto, no hemos creado ninguna característica, simplemente usamos los proporcionados en el conjunto de datos. Agregar más características debería ayudar a mejorar el rendimiento del modelo.  Experimenta con la ingeniería de más características.\n",
        "\n"
      ]
    },
    {
      "cell_type": "code",
      "execution_count": null,
      "id": "412074b2",
      "metadata": {
        "id": "412074b2"
      },
      "outputs": [],
      "source": [
        "## Tu respuesta"
      ]
    },
    {
      "cell_type": "markdown",
      "id": "1cbbd2f7",
      "metadata": {
        "id": "1cbbd2f7"
      },
      "source": [
        "Cuando entrenamos un bosque aleatorio, obtenemos diferentes modelos seleccionando un subconjunto aleatorio de características para cada árbol. Para controlar el tamaño del subconjunto, usamos el parámetro `max_features`. Intenta ajustar este parámetro y vea si cambia el AUC en la validación. \n"
      ]
    },
    {
      "cell_type": "code",
      "execution_count": null,
      "id": "71923bed",
      "metadata": {
        "id": "71923bed"
      },
      "outputs": [],
      "source": [
        "## Tu respuesta"
      ]
    },
    {
      "cell_type": "markdown",
      "id": "5dfb31fd",
      "metadata": {
        "id": "5dfb31fd"
      },
      "source": [
        "En XGBoost, el parámetro `colsample_bytree` controla la cantidad de características que seleccionamos para cada árbol; es similar a `max_features` del bosque aleatorio. Experimenta con este parámetro y vea si mejora el rendimiento: prueba valores de `0.1` a `1.0` con un paso de `0.1`. \n"
      ]
    },
    {
      "cell_type": "code",
      "execution_count": null,
      "id": "7ff7d4cf",
      "metadata": {
        "id": "7ff7d4cf"
      },
      "outputs": [],
      "source": [
        "## Tu respuesta"
      ]
    },
    {
      "cell_type": "markdown",
      "id": "73830db1",
      "metadata": {
        "id": "73830db1"
      },
      "source": [
        "Todos los modelos basados en árboles pueden resolver el problema de regresión: predecir un número. En Scikit-learn, `DecisionTreeRegressor` y `RandomForestRegressor`, implementa la variación de regresión de los modelos. En XGBoost, necesitamos cambiar el objetivo a `reg:squarederror`. \n",
        "\n",
        "Utiliza estos modelos para predecir el precio del automóvil e intenta resolver también otros problemas de regresión.\n",
        "\n"
      ]
    },
    {
      "cell_type": "code",
      "execution_count": null,
      "id": "75da874b",
      "metadata": {
        "id": "75da874b"
      },
      "outputs": [],
      "source": [
        "## Tu respuesta"
      ]
    },
    {
      "cell_type": "code",
      "execution_count": null,
      "id": "0121571b",
      "metadata": {
        "id": "0121571b"
      },
      "outputs": [],
      "source": []
    }
  ],
  "metadata": {
    "kernelspec": {
      "display_name": "Python 3",
      "language": "python",
      "name": "python3"
    },
    "language_info": {
      "codemirror_mode": {
        "name": "ipython",
        "version": 3
      },
      "file_extension": ".py",
      "mimetype": "text/x-python",
      "name": "python",
      "nbconvert_exporter": "python",
      "pygments_lexer": "ipython3",
      "version": "3.8.13"
    },
    "colab": {
      "provenance": [],
      "include_colab_link": true
    }
  },
  "nbformat": 4,
  "nbformat_minor": 5
}